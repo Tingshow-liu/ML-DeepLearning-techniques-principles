{
 "cells": [
  {
   "cell_type": "markdown",
   "metadata": {},
   "source": [
    "### Q1.1 Create your myknn_regressor based on the skeleton."
   ]
  },
  {
   "cell_type": "code",
   "execution_count": 81,
   "metadata": {},
   "outputs": [],
   "source": [
    "import pickle\n",
    "from sklearn import preprocessing\n",
    "import numpy as np\n",
    "\n",
    "# Load data\n",
    "with open('msd_data1.pickle', 'rb') as fh1:\n",
    "    msd_data = pickle.load(fh1)\n",
    "\n",
    "doscaling = 1\n",
    "\n",
    "if (doscaling == 1):\n",
    "    xscaler = preprocessing.StandardScaler().fit(msd_data['X_train'])\n",
    "    #standardize feature values\n",
    "    X_train = xscaler.transform(msd_data['X_train'])\n",
    "    X_test = xscaler.transform(msd_data['X_test'])\n",
    "else:\n",
    "    X_train = msd_data['X_train']\n",
    "    X_test = msd_data['X_test']\n",
    "\n",
    "Y_train = msd_data['Y_train']\n",
    "Y_test = msd_data['Y_test']"
   ]
  },
  {
   "cell_type": "code",
   "execution_count": 82,
   "metadata": {},
   "outputs": [],
   "source": [
    "'''my knn model'''\n",
    "class myknn_regressor():\n",
    "    def __init__(self, n_neighbors, mean_type):\n",
    "        self.n_neighbors = n_neighbors\n",
    "        self.type = mean_type\n",
    "\n",
    "    def fit(self, x_train, y_train):\n",
    "        self.X_train = x_train\n",
    "        self.Y_train = y_train\n",
    "\n",
    "    def euclidean_dist(self, x, y):  # Calculate the euclidean distance between training and testing data\n",
    "        return np.sqrt(np.sum((x - y) ** 2))\n",
    "\n",
    "    def predict(self, x_test):\n",
    "        y_predicts = []  # 裝所有 test points 的 Y predictions\n",
    "\n",
    "        # 把所有 test data points 與所有 train data points 的距離都算出來，並 return y_pred\n",
    "        for x in x_test:\n",
    "            y_predicts.append(self.before_predict(x))\n",
    "\n",
    "        return np.array(y_predicts)\n",
    "\n",
    "    def before_predict(self, x):\n",
    "        # 計算單個 test data point(x) 與所有 training data points 的距離\n",
    "        distances = []\n",
    "        for x_train in self.X_train:\n",
    "            distances.append(self.euclidean_dist(x, x_train))\n",
    "\n",
    "        # 取得與單個 test data point(x) 最近的 k 個 neighbors 的 indices\n",
    "        k_indices = np.argsort(distances)[:self.n_neighbors]\n",
    "\n",
    "        # 取得最近的 k 個 neighbors 的 labels(from y_train) 用來作 prediction\n",
    "        y_labels = []\n",
    "\n",
    "        for idx in k_indices:\n",
    "            y_labels.append(self.Y_train[idx])  # 要用來預測的所有 labels\n",
    "\n",
    "        # equal weight\n",
    "        if (self.type == 'equal_weight') or int(self.n_neighbors) < 10:\n",
    "            y_predict = np.mean(y_labels)\n",
    "        # remove outliers\n",
    "        elif self.type == 'remove_outliers':\n",
    "            Q1 = np.quantile(y_labels, 0.25)\n",
    "            Q3 = np.quantile(y_labels, 0.75)\n",
    "            IQR = Q3 - Q1\n",
    "            outliers_lst = []\n",
    "            for k in range(self.n_neighbors):\n",
    "                if y_labels[k] < Q1 - 1.5*IQR or y_labels[k] > Q3 + 1.5*IQR:\n",
    "                    outliers_lst.append(y_labels[k])\n",
    "            for k in range(len(outliers_lst)):\n",
    "                y_labels.remove(outliers_lst[k])\n",
    "            y_predict = np.mean(y_labels)\n",
    "\n",
    "        return y_predict"
   ]
  },
  {
   "cell_type": "markdown",
   "metadata": {},
   "source": [
    "### Q1.2 Load data from msd_data1.pickle. You should standardize all feature values to have a zero mean and unit variance before training a KNN model. \n",
    "\n",
    "### Make predictions using  𝑘=20 and \"equal_weight\" 𝑓. List the RMSE and the first 20 predictions in the test data."
   ]
  },
  {
   "cell_type": "code",
   "execution_count": 83,
   "metadata": {},
   "outputs": [
    {
     "name": "stdout",
     "output_type": "stream",
     "text": [
      "RMSE: 10.25126451549596\n",
      "First 20 predictions: [1993.35 1993.8  2000.65 1991.5  1992.8  1998.5  1988.1  1991.65 2002.25\n",
      " 2003.   2000.5  1998.65 1995.55 1997.2  1995.05 1997.4  1992.15 2000.45\n",
      " 2003.2  1995.75]\n"
     ]
    }
   ],
   "source": [
    "# calculate RMSE\n",
    "def rmse(predictions, targets):\n",
    "    return np.sqrt((np.square(np.subtract(predictions, targets))).mean())\n",
    "\n",
    "myknn = myknn_regressor(20, 'equal_weight')\n",
    "myknn.fit(X_train, Y_train)\n",
    "ypred = myknn.predict(X_test)\n",
    "rmse = rmse(ypred, Y_test)\n",
    "first20 = ypred[:20]\n",
    "\n",
    "print('RMSE:', rmse)\n",
    "print('First 20 predictions:', first20)"
   ]
  },
  {
   "cell_type": "markdown",
   "metadata": {},
   "source": [
    "### Q1.3 Load data from msd_data1.pickle. Standardized all feature values so that all features have a zero mean and unit variance.\n",
    "\n",
    "### Make predictions using  𝑘=20 and \"remove_outier\" 𝑓. List the RMSE and the first 20 predictions in the testing data."
   ]
  },
  {
   "cell_type": "code",
   "execution_count": 84,
   "metadata": {},
   "outputs": [
    {
     "name": "stdout",
     "output_type": "stream",
     "text": [
      "RMSE: 10.212572466080376\n",
      "First 20 predictions: [1993.35       1993.8        2000.65       1992.73684211 1992.8\n",
      " 2000.         1988.1        1991.65       2002.25       2003.94736842\n",
      " 2000.5        2000.94444444 1995.55       1997.2        1998.61111111\n",
      " 1997.4        1992.15       2003.83333333 2003.2        1995.75      ]\n"
     ]
    }
   ],
   "source": [
    "# calculate RMSE\n",
    "def rmse(predictions, targets):\n",
    "    return np.sqrt((np.square(np.subtract(predictions, targets))).mean())\n",
    "\n",
    "myknn = myknn_regressor(20, 'remove_outliers')\n",
    "myknn.fit(X_train, Y_train)\n",
    "ypred = myknn.predict(X_test)\n",
    "rmse = rmse(ypred, Y_test)\n",
    "first20 = ypred[:20]\n",
    "\n",
    "print('RMSE:', rmse)\n",
    "print('First 20 predictions:', first20)"
   ]
  },
  {
   "cell_type": "markdown",
   "metadata": {},
   "source": [
    "### Q2.1 All feature values are standardized to have unit variances and zero means"
   ]
  },
  {
   "cell_type": "code",
   "execution_count": 85,
   "metadata": {},
   "outputs": [],
   "source": [
    "import pickle\n",
    "from sklearn import preprocessing\n",
    "import numpy as np\n",
    "\n",
    "# Load data\n",
    "with open('msd_data1.pickle', 'rb') as fh1:\n",
    "    msd_data = pickle.load(fh1)\n",
    "\n",
    "doscaling = 1\n",
    "\n",
    "if (doscaling == 1):\n",
    "    xscaler = preprocessing.StandardScaler().fit(msd_data['X_train'])\n",
    "    #standardize feature values\n",
    "    X_train = xscaler.transform(msd_data['X_train'])\n",
    "    X_test = xscaler.transform(msd_data['X_test'])\n",
    "else:\n",
    "    X_train = msd_data['X_train']\n",
    "    X_test = msd_data['X_test']\n",
    "\n",
    "Y_train = msd_data['Y_train']\n",
    "Y_test = msd_data['Y_test']"
   ]
  },
  {
   "cell_type": "code",
   "execution_count": 86,
   "metadata": {},
   "outputs": [
    {
     "data": {
      "text/plain": [
       "[<matplotlib.lines.Line2D at 0x11ef10c10>]"
      ]
     },
     "execution_count": 86,
     "metadata": {},
     "output_type": "execute_result"
    },
    {
     "data": {
      "image/png": "[encoded data removed]",
      "text/plain": [
       "<Figure size 432x288 with 1 Axes>"
      ]
     },
     "metadata": {
      "needs_background": "light"
     },
     "output_type": "display_data"
    }
   ],
   "source": [
    "from sklearn.neighbors import KNeighborsRegressor\n",
    "import matplotlib.pyplot as plt\n",
    "\n",
    "k = [1, 2, 3, 4, 5, 10, 15, 20, 25, 30, 35, 40, 45, 50, 55, 60, 80, 100, 120, 140, 160, 180, 200]\n",
    "\n",
    "def rmse(predictions, targets):\n",
    "    return np.sqrt((np.square(np.subtract(predictions, targets))).mean())\n",
    "\n",
    "k_list1 = []\n",
    "rmse_list1 = []\n",
    "\n",
    "for i in range(len(k)):\n",
    "    neighs = KNeighborsRegressor(k[i])\n",
    "    neighs.fit(X_train, Y_train)\n",
    "    y_preds = neighs.predict(X_test)\n",
    "\n",
    "    k_list1.append(k[i])\n",
    "    rmse_list1.append(rmse(y_preds, Y_test))\n",
    "    \n",
    "plt.xlabel('k')\n",
    "plt.ylabel('RMSE')\n",
    "plt.plot(k_list1, rmse_list1, marker='o', markersize=3)"
   ]
  },
  {
   "cell_type": "markdown",
   "metadata": {},
   "source": [
    "### Q2.2 No feature scaling"
   ]
  },
  {
   "cell_type": "code",
   "execution_count": 87,
   "metadata": {},
   "outputs": [],
   "source": [
    "import pickle\n",
    "from sklearn import preprocessing\n",
    "import numpy as np\n",
    "\n",
    "# Load data\n",
    "with open('msd_data1.pickle', 'rb') as fh1:\n",
    "    msd_data = pickle.load(fh1)\n",
    "\n",
    "doscaling = 0\n",
    "\n",
    "if (doscaling == 1):\n",
    "    xscaler = preprocessing.StandardScaler().fit(msd_data['X_train'])\n",
    "    #standardize feature values\n",
    "    X_train = xscaler.transform(msd_data['X_train'])\n",
    "    X_test = xscaler.transform(msd_data['X_test'])\n",
    "else:\n",
    "    X_train = msd_data['X_train']\n",
    "    X_test = msd_data['X_test']\n",
    "\n",
    "Y_train = msd_data['Y_train']\n",
    "Y_test = msd_data['Y_test']"
   ]
  },
  {
   "cell_type": "code",
   "execution_count": 88,
   "metadata": {},
   "outputs": [
    {
     "data": {
      "text/plain": [
       "[<matplotlib.lines.Line2D at 0x11e9ecd90>]"
      ]
     },
     "execution_count": 88,
     "metadata": {},
     "output_type": "execute_result"
    },
    {
     "data": {
      "image/png": "[encoded data removed]",
      "text/plain": [
       "<Figure size 432x288 with 1 Axes>"
      ]
     },
     "metadata": {
      "needs_background": "light"
     },
     "output_type": "display_data"
    }
   ],
   "source": [
    "from sklearn.neighbors import KNeighborsRegressor\n",
    "import matplotlib.pyplot as plt\n",
    "\n",
    "k = [1, 2, 3, 4, 5, 10, 15, 20, 25, 30, 35, 40, 45, 50, 55, 60, 80, 100, 120, 140, 160, 180, 200]\n",
    "\n",
    "def rmse(predictions, targets):\n",
    "    return np.sqrt((np.square(np.subtract(predictions, targets))).mean())\n",
    "\n",
    "k_list2 = []\n",
    "rmse_list2 = []\n",
    "\n",
    "for i in range(len(k)):\n",
    "    neighs = KNeighborsRegressor(k[i])\n",
    "    neighs.fit(X_train, Y_train)\n",
    "    y_preds = neighs.predict(X_test)\n",
    "\n",
    "    k_list2.append(k[i])\n",
    "    rmse_list2.append(rmse(y_preds, Y_test))\n",
    "    \n",
    "plt.xlabel('k')\n",
    "plt.ylabel('RMSE')\n",
    "plt.plot(k_list2, rmse_list2, marker='o', markersize=3)"
   ]
  },
  {
   "cell_type": "markdown",
   "metadata": {},
   "source": [
    "### Q2.3 uses standardized features and adopted myknn_regressor with \"remove_outlier\"  𝑓 to make predictions."
   ]
  },
  {
   "cell_type": "code",
   "execution_count": 89,
   "metadata": {},
   "outputs": [],
   "source": [
    "import pickle\n",
    "from sklearn import preprocessing\n",
    "import numpy as np\n",
    "\n",
    "# Load data\n",
    "with open('msd_data1.pickle', 'rb') as fh1:\n",
    "    msd_data = pickle.load(fh1)\n",
    "\n",
    "doscaling = 1\n",
    "\n",
    "if (doscaling == 1):\n",
    "    xscaler = preprocessing.StandardScaler().fit(msd_data['X_train'])\n",
    "    #standardize feature values\n",
    "    X_train = xscaler.transform(msd_data['X_train'])\n",
    "    X_test = xscaler.transform(msd_data['X_test'])\n",
    "else:\n",
    "    X_train = msd_data['X_train']\n",
    "    X_test = msd_data['X_test']\n",
    "\n",
    "Y_train = msd_data['Y_train']\n",
    "Y_test = msd_data['Y_test']"
   ]
  },
  {
   "cell_type": "code",
   "execution_count": 74,
   "metadata": {},
   "outputs": [
    {
     "data": {
      "text/plain": [
       "[<matplotlib.lines.Line2D at 0x11e346f70>]"
      ]
     },
     "execution_count": 74,
     "metadata": {},
     "output_type": "execute_result"
    },
    {
     "data": {
      "image/png": "[encoded data removed]",
      "text/plain": [
       "<Figure size 432x288 with 1 Axes>"
      ]
     },
     "metadata": {
      "needs_background": "light"
     },
     "output_type": "display_data"
    }
   ],
   "source": [
    "def rmse(predictions, targets):\n",
    "    return np.sqrt((np.square(np.subtract(predictions, targets))).mean())\n",
    "\n",
    "k = [1, 2, 3, 4, 5, 10, 15, 20, 25, 30, 35, 40, 45, 50, 55, 60, 80, 100, 120, 140, 160, 180, 200]\n",
    "\n",
    "k_list3 = []\n",
    "rmse_list3 = []\n",
    "\n",
    "for i in range(len(k)):\n",
    "    neighs = myknn_regressor(k[i], 'remove_outliers')\n",
    "    neighs.fit(X_train, Y_train)\n",
    "    y_preds = neighs.predict(X_test)\n",
    "\n",
    "    k_list3.append(k[i])\n",
    "    rmse_list3.append(rmse(y_preds, Y_test))\n",
    "\n",
    "plt.xlabel('k')\n",
    "plt.ylabel('RMSE')\n",
    "plt.plot(k_list3, rmse_list3, marker='o', markersize=3)"
   ]
  },
  {
   "cell_type": "markdown",
   "metadata": {},
   "source": [
    "### Plot the three curves together"
   ]
  },
  {
   "cell_type": "code",
   "execution_count": 80,
   "metadata": {},
   "outputs": [
    {
     "data": {
      "text/plain": [
       "Text(0, 0.5, 'RMSE')"
      ]
     },
     "execution_count": 80,
     "metadata": {},
     "output_type": "execute_result"
    },
    {
     "data": {
      "image/png": "[encoded data removed]",
      "text/plain": [
       "<Figure size 432x288 with 1 Axes>"
      ]
     },
     "metadata": {
      "needs_background": "light"
     },
     "output_type": "display_data"
    }
   ],
   "source": [
    "plt.plot(k_list1, rmse_list1, color = 'r')\n",
    "plt.plot(k_list2, rmse_list2, color = 'b')\n",
    "plt.plot(k_list3, rmse_list3, color = 'g')\n",
    "plt.legend(['Feature scaling + sklearn', 'Non feature scaling + sklearn', 'Feature scaling + mylasso'])\n",
    "plt.suptitle('RMSE vs k')\n",
    "plt.xlabel('k')\n",
    "plt.ylabel('RMSE')"
   ]
  },
  {
   "cell_type": "markdown",
   "metadata": {},
   "source": [
    "### Plot the three curves together"
   ]
  },
  {
   "cell_type": "markdown",
   "metadata": {},
   "source": [
    "### Q3.1 基於本題給的 𝐿，推導新的Coordinate Descent with Soft Thresholding公式 "
   ]
  },
  {
   "cell_type": "markdown",
   "metadata": {},
   "source": [
    "$$\n",
    "L = \\frac{1}{2n} \\sum_{i=1}^n (y_i - \\mathbf{w}^T \\mathbf{x}_i - w_0)^2 + \\lambda \\sum_{i=1}^M |w_i|\n",
    "$$\n",
    "$$\n",
    "\\frac{\\partial L}{\\partial w_j} =  \\frac{1}{n} \\sum_{i=1}^n (y_i - \\mathbf{w}^T \\mathbf{x}_i - w_0)(-x_{i,j}) +  \\lambda sgn(w_j)\n",
    "$$\n",
    "$$\n",
    "\\frac{\\partial L}{\\partial w_j} =  \\frac{1}{n} \\sum_{i=1}^n (y_i - \\mathbf{w}_{-j}^T \\mathbf{x}_{i,-j} - w_j x_{i,j} -  w_0)(-x_{i,j}) +  \\lambda sgn(w_j)\n",
    "$$\n",
    "$$\n",
    "\\frac{\\partial L}{\\partial w_j} =  \\frac{1}{n} \\sum_{i=1}^n (y_i - \\mathbf{w}_{-j}^T \\mathbf{x}_{i,-j} -  w_0)(-x_{i,j}) +   \\frac{1}{n} w_j \\sum_{i=1}^n (x_{i,j})^2 + \\lambda sgn(w_j) = 0\n",
    "$$\n",
    "$$\n",
    "w_j =  \\frac{ \\sum_{i=1}^n (y_i - \\mathbf{w}_{-j}^T \\mathbf{x}_{i,-j} -  w_0)(x_{i,j}) - n \\lambda sgn(w_j)}{\\sum_{i=1}^n (x_{i,j})^2}\n",
    "$$\n",
    "$$\n",
    "w_j =   \\frac{ \\sum_{i=1}^n (y_i - \\mathbf{w}_{-j}^T \\mathbf{x}_{i,-j} -  w_0)(x_{i,j}) - n \\lambda}{\\sum_{i=1}^n (x_{i,j})^2}, IF \\frac{\\frac{1}{n} \\sum_{i=1}^n (y_i - \\mathbf{w}^T \\mathbf{x}_{i,-j} -  w_0)(x_{i,j}) - n \\lambda}{\\sum_{i=1}^n (x_{i,j})^2} > 0\n",
    "$$\n",
    "$$\n",
    "w_j =   \\frac{ \\sum_{i=1}^n (y_i - \\mathbf{w}_{-j}^T \\mathbf{x}_{i,-j} -  w_0)(x_{i,j}) + n \\lambda}{\\sum_{i=1}^n (x_{i,j})^2}, IF \\frac{\\frac{1}{n} \\sum_{i=1}^n (y_i - \\mathbf{w}^T \\mathbf{x}_{i,-j} -  w_0)(x_{i,j}) + n \\lambda}{\\sum_{i=1}^n (x_{i,j})^2} < 0\n",
    "$$\n",
    "$$\n",
    "0,otherwise\n",
    "$$"
   ]
  },
  {
   "cell_type": "markdown",
   "metadata": {},
   "source": [
    "### Q3.2 使用給定個骨架建構你的mylasso。"
   ]
  },
  {
   "cell_type": "code",
   "execution_count": 90,
   "metadata": {},
   "outputs": [],
   "source": [
    "#load the dataset, and create normalized and raw features.\n",
    "import pickle\n",
    "from sklearn import preprocessing\n",
    "import numpy as np\n",
    "np.set_printoptions(suppress=True)\n",
    "\n",
    "\n",
    "#Load data\n",
    "with open('msd_data1.pickle', 'rb') as fh1:\n",
    "    msd_data = pickle.load(fh1)\n",
    "\n",
    "xscaler = preprocessing.StandardScaler().fit(msd_data['X_train'])\n",
    "\n",
    "#standardize feature values\n",
    "X_train_sd = xscaler.transform(msd_data['X_train'])  # 5000 * 90\n",
    "X_test_sd = xscaler.transform(msd_data['X_test'])\n",
    "\n",
    "#outcome values\n",
    "Y_train = msd_data['Y_train']  # 5000 * 1\n",
    "Y_test = msd_data['Y_test']"
   ]
  },
  {
   "cell_type": "code",
   "execution_count": 91,
   "metadata": {},
   "outputs": [],
   "source": [
    "class mylasso():\n",
    "    def __init__(self, lamcoef = 0.1, max_iter=1000, tol=1e-6, const_regu = False):\n",
    "        self.lamb = lamcoef  # lambda\n",
    "        self.max_iter = max_iter\n",
    "        self.tolerance = tol\n",
    "        self.const_reg = const_regu\n",
    "\n",
    "    def fit(self, x_train, y_train, winit, keep_traindata, verbose = False):\n",
    "\n",
    "        if keep_traindata == True:\n",
    "            self.X_train = x_train\n",
    "            self.Y_train = y_train\n",
    "        self.verbose = verbose\n",
    "\n",
    "        x_train = np.column_stack((np.ones(len(x_train)),x_train))  # 加上 X0\n",
    "        m = x_train.shape[0]  # 5000\n",
    "        n = x_train.shape[1]  # 91\n",
    "\n",
    "        if winit == 'ridge':  # 用 ridge regression 設定初始值\n",
    "            w = np.linalg.inv(np.dot(x_train.T,x_train) + np.eye(n)*self.lamb).dot(x_train.T).dot(y_train)\n",
    "\n",
    "        '''coordinate descent'''\n",
    "        l_list = []\n",
    "        for i in range(self.max_iter):\n",
    "            for j in range(n):\n",
    "                last_wt = np.copy(w)  # 91 * 1\n",
    "                if j != 0:\n",
    "                    last_wt[j] = 0  # 把 Wj 變成 0\n",
    "\n",
    "                z = np.sum(x_train * x_train, axis=0)  # sum(Xi)**2\n",
    "                residuals = y_train - np.dot(x_train, last_wt)  # 5000*91 , 91*1\n",
    "                j_star = np.sum(x_train[:, j] * residuals)  # 這個 j_star 跟老師的不太一樣\n",
    "\n",
    "                if not self.const_reg and j == 0:  # W0\n",
    "                    w[j] = j_star / z[j]\n",
    "                else:\n",
    "                    if j_star < -(self.lamb * m):\n",
    "                        w[j] = (j_star + self.lamb * m) / z[j]\n",
    "                    elif j_star > self.lamb * m:\n",
    "                        w[j] = (j_star - (self.lamb * m)) / z[j]\n",
    "                    else:\n",
    "                        w[j] = 0\n",
    "\n",
    "            L = np.mean((y_train - np.dot(x_train, w)) ** 2) / 2 + self.lamb * np.nansum(np.abs(w))  \n",
    "            if not self.const_reg:\n",
    "                L -= self.lamb * np.abs(w[0])  \n",
    "            l_list.append(L)\n",
    "\n",
    "            if i != 0 and abs(l_list[i] - l_list[i - 1]) < self.tolerance:\n",
    "                break\n",
    "\n",
    "            self.L_list = l_list\n",
    "            self.w = w\n",
    "\n",
    "    def predict(self, x_test):\n",
    "        x_test = np.column_stack((np.ones(len(x_test)),x_test))\n",
    "        y = np.dot(x_test, self.w)\n",
    "        return y\n",
    "\n",
    "    def result(self):\n",
    "        results = []\n",
    "        print('Training loss:', self.L_list[-1])\n",
    "        results.append(self.L_list[-1])\n",
    "        y_predicts = self.predict(self.X_train)\n",
    "        rmse = np.sqrt((np.square(np.subtract(y_predicts, self.Y_train))).mean())\n",
    "        print('RMSE:', rmse)\n",
    "        results.append(rmse)\n",
    "        mae = np.mean(np.abs(y_predicts-self.Y_train))\n",
    "        print('MAE:', mae)\n",
    "        results.append(mae)\n",
    "        print('Intercept:', self.w[0])\n",
    "        results.append(self.w[0])\n",
    "        wt = np.array(self.w[1:])\n",
    "        print('Feature weights:', wt)\n",
    "        results.append(self.w[1:])\n",
    "        print('非零權重的個數: ', len(wt[wt != 0]))\n",
    "        results.append(len(wt[wt!=0]))\n",
    "        print('Average Weight Size: ', np.mean(wt))\n",
    "        results.append(np.mean(wt))\n",
    "        return results"
   ]
  },
  {
   "cell_type": "markdown",
   "metadata": {},
   "source": [
    "### Q3.3 載入資料集，並且使用訓練資料計算Lasso Regression的權重，設定lamcoef = 0.1，其他參數使用預設值。列出Training Loss、Root Mean Squared Error (RMSE) in Training Data、Mean Absolute Error (MAE) in Training Data、Intercept (截距項)、Feature Weights (除了截距項的所有權重)、非零權重的個數。"
   ]
  },
  {
   "cell_type": "code",
   "execution_count": 92,
   "metadata": {},
   "outputs": [
    {
     "name": "stdout",
     "output_type": "stream",
     "text": [
      "Training loss: 49.88919849390567\n",
      "RMSE: 9.719682740135507\n",
      "MAE: 6.9900640977077755\n",
      "Intercept: 1998.22603547929\n",
      "Feature weights: [ 4.65149469 -2.45726579 -1.06326999  0.         -0.34231573 -2.94695043\n",
      "  0.         -0.39967846 -0.42647184  0.         -0.23508782 -0.39505721\n",
      "  0.50377845  0.         -0.33977548  0.61321153  0.15721976  0.43025983\n",
      "  0.43548803  1.12847847  0.40665286  0.          1.78001172  0.\n",
      " -0.16839325  0.07844224  0.66198864  0.01250811  0.15398749  0.\n",
      " -0.21773677 -0.22184915  0.         -0.0026038  -0.01729687 -0.26084155\n",
      "  0.          0.28998407  0.34870842  0.         -0.26111139 -0.14456046\n",
      " -0.01017548  0.03508809 -0.03985507  0.          0.00309025 -0.17737277\n",
      "  0.          0.06481336  0.27116205  0.          0.          0.\n",
      "  0.          0.         -0.6373202   0.23816168 -0.18988466  0.\n",
      " -0.18883914  0.         -0.13593493  0.06122665 -0.2662238   0.\n",
      "  0.          0.         -0.03118913  0.         -0.19311313  0.01225373\n",
      "  0.20725809  0.25121473  0.12277347  0.          0.         -0.52928878\n",
      "  0.          0.          0.17839647  0.02418344  0.25336199  0.1939631\n",
      "  0.37074685  0.          0.         -0.29145073  0.          0.        ]\n",
      "非零權重的個數:  59\n",
      "Average Weight Size:  0.014988827469725482\n"
     ]
    },
    {
     "data": {
      "text/plain": [
       "[49.88919849390567,\n",
       " 9.719682740135507,\n",
       " 6.9900640977077755,\n",
       " 1998.22603547929,\n",
       " array([ 4.65149469, -2.45726579, -1.06326999,  0.        , -0.34231573,\n",
       "        -2.94695043,  0.        , -0.39967846, -0.42647184,  0.        ,\n",
       "        -0.23508782, -0.39505721,  0.50377845,  0.        , -0.33977548,\n",
       "         0.61321153,  0.15721976,  0.43025983,  0.43548803,  1.12847847,\n",
       "         0.40665286,  0.        ,  1.78001172,  0.        , -0.16839325,\n",
       "         0.07844224,  0.66198864,  0.01250811,  0.15398749,  0.        ,\n",
       "        -0.21773677, -0.22184915,  0.        , -0.0026038 , -0.01729687,\n",
       "        -0.26084155,  0.        ,  0.28998407,  0.34870842,  0.        ,\n",
       "        -0.26111139, -0.14456046, -0.01017548,  0.03508809, -0.03985507,\n",
       "         0.        ,  0.00309025, -0.17737277,  0.        ,  0.06481336,\n",
       "         0.27116205,  0.        ,  0.        ,  0.        ,  0.        ,\n",
       "         0.        , -0.6373202 ,  0.23816168, -0.18988466,  0.        ,\n",
       "        -0.18883914,  0.        , -0.13593493,  0.06122665, -0.2662238 ,\n",
       "         0.        ,  0.        ,  0.        , -0.03118913,  0.        ,\n",
       "        -0.19311313,  0.01225373,  0.20725809,  0.25121473,  0.12277347,\n",
       "         0.        ,  0.        , -0.52928878,  0.        ,  0.        ,\n",
       "         0.17839647,  0.02418344,  0.25336199,  0.1939631 ,  0.37074685,\n",
       "         0.        ,  0.        , -0.29145073,  0.        ,  0.        ]),\n",
       " 59,\n",
       " 0.014988827469725482]"
      ]
     },
     "execution_count": 92,
     "metadata": {},
     "output_type": "execute_result"
    }
   ],
   "source": [
    "np.set_printoptions(suppress=True)\n",
    "lasso = mylasso()\n",
    "lasso.fit(X_train_sd, Y_train, \"ridge\", True, False)\n",
    "lasso.result()"
   ]
  },
  {
   "cell_type": "markdown",
   "metadata": {},
   "source": [
    "### Q3.4 使用上一小題的模型計算測試資料的預測值。列出前五筆資料的預測年分、Test RMSE、Test MAE。"
   ]
  },
  {
   "cell_type": "code",
   "execution_count": 93,
   "metadata": {},
   "outputs": [
    {
     "name": "stdout",
     "output_type": "stream",
     "text": [
      "前五筆資料的預測年分:  [1991.89315875 1999.03324181 2001.71521773 1991.26431643 1994.3846224 ]\n",
      "Test RMSE:  9.64898266728784\n",
      "Test MAE:  6.930246529197927\n"
     ]
    }
   ],
   "source": [
    "y_predicts = lasso.predict(X_test_sd)\n",
    "print('前五筆資料的預測年分: ', y_predicts[0:5])\n",
    "rmse = np.sqrt((np.square(np.subtract(y_predicts, Y_test))).mean())\n",
    "print('Test RMSE: ', rmse)\n",
    "mae = np.mean(np.abs(y_predicts - Y_test))\n",
    "print('Test MAE: ', mae)"
   ]
  },
  {
   "cell_type": "markdown",
   "metadata": {},
   "source": [
    "### Q3.5 使用下面的 𝜆 訓練模型: 0.0001, 0.0005, 0.001, 0.005, 0.01, 0.05, 0.1, 0.5, 1, 2。記錄每一個 𝜆 的Training Loss、Number of Nonzero Weights、Average Weight Size (Mean of Absolute Weight)、Training RMSE、Test RMSE。將所有的結果列表、畫折線圖、並寫下你對結果的觀察。"
   ]
  },
  {
   "cell_type": "code",
   "execution_count": 94,
   "metadata": {
    "scrolled": false
   },
   "outputs": [
    {
     "name": "stdout",
     "output_type": "stream",
     "text": [
      "--------------- lambda =  0.0001  -------------------\n",
      "Training loss: 46.570460237674276\n",
      "RMSE: 9.65051565680034\n",
      "MAE: 6.94495588192388\n",
      "Intercept: 1998.2659600346797\n",
      "Feature weights: [ 5.07680419 -2.87234531 -1.45816822  0.4818689  -0.69920969 -3.61170798\n",
      " -0.04800842 -0.88087652 -0.55206385 -0.1626548  -0.46604443 -0.35479191\n",
      "  0.76201719  0.01403546 -0.95852271  0.74452173  0.20140093  0.95630278\n",
      "  0.70381118  0.65420269  0.59232453  0.43040255  1.74974514  0.2406231\n",
      " -0.37725331  0.19948797  1.15056173  0.14670344  0.30253428  0.00530252\n",
      " -0.33496457 -0.42660058 -0.20576565 -0.18090943 -0.2850448  -0.29856502\n",
      " -0.06317797  0.27725083  0.56546128 -0.15462781 -0.21434242 -0.28782084\n",
      " -0.09124669  0.17457523 -0.31119615  0.19011309  0.07631298 -0.42274675\n",
      " -0.09278769  0.22743159  0.42170494  0.16562672  0.16013275  0.24609145\n",
      " -0.02587266  0.12363128 -0.71815324  0.56008599 -0.27524089  0.09281163\n",
      " -0.2652196   0.19809963 -0.31023304  0.24273109 -0.5657452  -0.05383544\n",
      "  0.20590748 -0.17457686 -0.19109534 -0.17143729 -0.58188822  0.18656764\n",
      "  0.31564966  0.32053409  0.13146646  0.33366835 -0.20559873 -0.77281967\n",
      " -0.22436954  0.03304504  0.1605809   0.31361756  0.2498722   0.26819711\n",
      "  0.48004243  0.08509683  0.03808237 -0.62252648 -0.09710197  0.0159694 ]\n",
      "非零權重的個數:  90\n",
      "Average Weight Size:  0.002287228870819746\n",
      "--------------- lambda =  0.0005  -------------------\n",
      "Training loss: 46.58737437021037\n",
      "RMSE: 9.650519070991674\n",
      "MAE: 6.94482998809869\n",
      "Intercept: 1998.2658001734205\n",
      "Feature weights: [ 5.07465921 -2.87039925 -1.45276681  0.47188254 -0.6967388  -3.60467314\n",
      " -0.04410703 -0.88021668 -0.55255844 -0.15777635 -0.46135753 -0.35574123\n",
      "  0.76096455  0.01374261 -0.9559012   0.74542585  0.20171582  0.95617627\n",
      "  0.70219623  0.65715384  0.59121498  0.42763665  1.74999028  0.23884418\n",
      " -0.37628547  0.19920609  1.14777962  0.14578425  0.3022702   0.00406854\n",
      " -0.33448577 -0.42562486 -0.20452515 -0.18064079 -0.28379349 -0.29893898\n",
      " -0.06180728  0.27724276  0.56468998 -0.15370975 -0.21427964 -0.28716165\n",
      " -0.090368    0.17393797 -0.30987435  0.18853563  0.07595157 -0.42160165\n",
      " -0.0921947   0.22656298  0.42096342  0.16395956  0.15976456  0.24479548\n",
      " -0.02513364  0.12202947 -0.7172907   0.55927611 -0.27467612  0.09037392\n",
      " -0.26543615  0.19715377 -0.30843372  0.24155739 -0.56533003 -0.05303944\n",
      "  0.20494596 -0.1727986  -0.189979   -0.17007917 -0.58003638  0.18505326\n",
      "  0.31583777  0.32086706  0.1314479   0.33175739 -0.20415633 -0.77076875\n",
      " -0.22324058  0.03225897  0.1608664   0.31171744  0.25062377  0.26790314\n",
      "  0.47964801  0.08342087  0.03786785 -0.62030161 -0.09577143  0.01467915]\n",
      "非零權重的個數:  90\n",
      "Average Weight Size:  0.002471128961597367\n",
      "--------------- lambda =  0.001  -------------------\n",
      "Training loss: 46.60845532891931\n",
      "RMSE: 9.65052974033181\n",
      "MAE: 6.944678271858553\n",
      "Intercept: 1998.265600346879\n",
      "Feature weights: [ 5.07197799 -2.86796668 -1.44601504  0.45939958 -0.69365019 -3.59587959\n",
      " -0.03923028 -0.87939189 -0.55317669 -0.15167829 -0.45549891 -0.35692788\n",
      "  0.75964875  0.01337655 -0.9526243   0.74655599  0.20210944  0.95601812\n",
      "  0.70017753  0.66084279  0.58982804  0.42417928  1.7502967   0.23662054\n",
      " -0.37507568  0.19885374  1.14430198  0.14463525  0.3019401   0.00252608\n",
      " -0.33388727 -0.4244052  -0.20297452 -0.18030498 -0.28222935 -0.29940643\n",
      " -0.06009391  0.27723267  0.56372586 -0.15256217 -0.21420116 -0.28633766\n",
      " -0.08926962  0.1731414  -0.3082221   0.18656381  0.07549981 -0.42017028\n",
      " -0.09145346  0.22547723  0.42003651  0.16187562  0.15930433  0.24317551\n",
      " -0.02420988  0.1200272  -0.71621252  0.55826376 -0.27397016  0.0873268\n",
      " -0.26570683  0.19597146 -0.30618456  0.24009027 -0.56481107 -0.05204444\n",
      "  0.20374407 -0.17057577 -0.18858358 -0.16838151 -0.57772158  0.18316028\n",
      "  0.31607291  0.32128327  0.13142469  0.32936869 -0.20235333 -0.7682051\n",
      " -0.22182938  0.03127638  0.16122328  0.30934229  0.25156322  0.26753569\n",
      "  0.47915499  0.08132591  0.0375997  -0.61752051 -0.09410826  0.01306634]\n",
      "非零權重的個數:  90\n",
      "Average Weight Size:  0.0027010040750673\n",
      "--------------- lambda =  0.005  -------------------\n",
      "Training loss: 46.77465366236993\n",
      "RMSE: 9.65086679873059\n",
      "MAE: 6.943684765042499\n",
      "Intercept: 1998.264001735998\n",
      "Feature weights: [ 5.05043969 -2.8477703  -1.3910418   0.35864436 -0.66875065 -3.52579599\n",
      "  0.         -0.87230072 -0.55769184 -0.10362417 -0.4081771  -0.36663517\n",
      "  0.74988733  0.0099899  -0.92673232  0.7543377   0.20544938  0.95092951\n",
      "  0.68827134  0.69152287  0.57959369  0.3957173   1.75215295  0.21880399\n",
      " -0.36550674  0.19570566  1.11751158  0.13584899  0.29941024  0.\n",
      " -0.328487   -0.41511398 -0.19084649 -0.17809038 -0.27018061 -0.30354874\n",
      " -0.04575312  0.27686635  0.55758782 -0.14239803 -0.21379248 -0.27899642\n",
      " -0.08047404  0.16662948 -0.29537851  0.17098767  0.0717924  -0.40921772\n",
      " -0.08710493  0.21717337  0.41272817  0.14541787  0.15538202  0.23033111\n",
      " -0.01664045  0.10321834 -0.70867183  0.55077496 -0.26832437  0.06256909\n",
      " -0.2660461   0.18671595 -0.28767474  0.22763557 -0.56109511 -0.04406062\n",
      "  0.19407822 -0.1535025  -0.17842277 -0.15460433 -0.55879241  0.16829895\n",
      "  0.31849377  0.32435864  0.13124902  0.31073629 -0.18775596 -0.7481102\n",
      " -0.21021927  0.02378858  0.16414882  0.28992472  0.25863172  0.26455653\n",
      "  0.47501253  0.06435052  0.03546667 -0.59575993 -0.08099535  0.00052895]\n",
      "非零權重的個數:  88\n",
      "Average Weight Size:  0.0046618372893675285\n",
      "--------------- lambda =  0.01  -------------------\n",
      "Training loss: 46.97682719863592\n",
      "RMSE: 9.651758831060382\n",
      "MAE: 6.943046914515336\n",
      "Intercept: 1998.2620034759946\n",
      "Feature weights: [ 5.02877301 -2.83184691 -1.3348945   0.27934221 -0.64652585 -3.47580295\n",
      "  0.         -0.84895747 -0.56763416 -0.05704674 -0.38566673 -0.36915532\n",
      "  0.73777758  0.00198216 -0.89154829  0.75161135  0.20810854  0.94209539\n",
      "  0.677171    0.71980583  0.56914389  0.37013408  1.75835999  0.19753914\n",
      " -0.35471535  0.18956823  1.0875159   0.12486427  0.2963562   0.\n",
      " -0.32490691 -0.40323158 -0.17822984 -0.17431189 -0.25588524 -0.30451972\n",
      " -0.02846951  0.27593498  0.54615587 -0.13068929 -0.2134856  -0.27042381\n",
      " -0.07171658  0.15865311 -0.27728483  0.15377931  0.0682404  -0.39696696\n",
      " -0.08065791  0.20628369  0.40435888  0.12323405  0.14809083  0.21042379\n",
      " -0.0082072   0.08683591 -0.70405425  0.53840178 -0.26089324  0.02763404\n",
      " -0.26473273  0.17552359 -0.27098996  0.21116142 -0.55257756 -0.03289397\n",
      "  0.18038675 -0.12972435 -0.16643072 -0.13967581 -0.53611117  0.14991318\n",
      "  0.31605781  0.32715708  0.13011707  0.28752296 -0.17194543 -0.72564495\n",
      " -0.19221513  0.01683366  0.16646917  0.26861947  0.26225972  0.26279125\n",
      "  0.47070911  0.04471691  0.02975916 -0.5729438  -0.06850526  0.        ]\n",
      "非零權重的個數:  87\n",
      "Average Weight Size:  0.0057339364890353255\n",
      "--------------- lambda =  0.05  -------------------\n",
      "Training loss: 48.417585780569055\n",
      "RMSE: 9.67262653137704\n",
      "MAE: 6.9517178234005055\n",
      "Intercept: 1998.246017539826\n",
      "Feature weights: [ 4.8525636  -2.65488346 -1.11311673  0.         -0.49944452 -3.19588361\n",
      "  0.01428085 -0.64925619 -0.51580389  0.         -0.29746079 -0.38358611\n",
      "  0.62812884  0.         -0.65490778  0.713198    0.19618769  0.76411013\n",
      "  0.57407269  0.92063293  0.50366636  0.17893771  1.83128858  0.03659375\n",
      " -0.28095911  0.15623222  0.89066962  0.06964451  0.23588016  0.\n",
      " -0.27415535 -0.3209022  -0.06443745 -0.10480592 -0.13469611 -0.28304697\n",
      "  0.          0.28726602  0.45752955 -0.05077323 -0.23534211 -0.18503296\n",
      " -0.03946345  0.10852692 -0.14252894  0.05103344  0.0333476  -0.2897757\n",
      " -0.02599997  0.13757597  0.34198934  0.          0.06964309  0.04875521\n",
      "  0.          0.00486583 -0.67599617  0.4157891  -0.20917622  0.\n",
      " -0.24387642  0.07959303 -0.18479452  0.12899921 -0.42433249  0.\n",
      "  0.0789901  -0.01159908 -0.08189911 -0.04735638 -0.36972041  0.07833954\n",
      "  0.26019464  0.30265931  0.12518971  0.12838754 -0.05213459 -0.62855635\n",
      " -0.04831798  0.          0.16881714  0.13146555  0.27128478  0.24012157\n",
      "  0.42756098  0.          0.         -0.43664037  0.          0.        ]\n",
      "非零權重的個數:  76\n",
      "Average Weight Size:  0.012592779463539797\n",
      "--------------- lambda =  0.1  -------------------\n",
      "Training loss: 49.88919849390567\n",
      "RMSE: 9.719682740135507\n",
      "MAE: 6.9900640977077755\n",
      "Intercept: 1998.22603547929\n",
      "Feature weights: [ 4.65149469 -2.45726579 -1.06326999  0.         -0.34231573 -2.94695043\n",
      "  0.         -0.39967846 -0.42647184  0.         -0.23508782 -0.39505721\n",
      "  0.50377845  0.         -0.33977548  0.61321153  0.15721976  0.43025983\n",
      "  0.43548803  1.12847847  0.40665286  0.          1.78001172  0.\n",
      " -0.16839325  0.07844224  0.66198864  0.01250811  0.15398749  0.\n",
      " -0.21773677 -0.22184915  0.         -0.0026038  -0.01729687 -0.26084155\n",
      "  0.          0.28998407  0.34870842  0.         -0.26111139 -0.14456046\n",
      " -0.01017548  0.03508809 -0.03985507  0.          0.00309025 -0.17737277\n",
      "  0.          0.06481336  0.27116205  0.          0.          0.\n",
      "  0.          0.         -0.6373202   0.23816168 -0.18988466  0.\n",
      " -0.18883914  0.         -0.13593493  0.06122665 -0.2662238   0.\n",
      "  0.          0.         -0.03118913  0.         -0.19311313  0.01225373\n",
      "  0.20725809  0.25121473  0.12277347  0.          0.         -0.52928878\n",
      "  0.          0.          0.17839647  0.02418344  0.25336199  0.1939631\n",
      "  0.37074685  0.          0.         -0.29145073  0.          0.        ]\n",
      "非零權重的個數:  59\n",
      "Average Weight Size:  0.014988827469725482\n",
      "--------------- lambda =  0.5  -------------------\n"
     ]
    },
    {
     "name": "stdout",
     "output_type": "stream",
     "text": [
      "Training loss: 56.39564803547887\n",
      "RMSE: 10.098972615673835\n",
      "MAE: 7.413622685699808\n",
      "Intercept: 1998.0661933806628\n",
      "Feature weights: [ 2.98156206 -1.28134625 -0.63018402  0.          0.         -2.07702597\n",
      "  0.          0.          0.          0.          0.         -0.22591713\n",
      "  0.          0.12417852  0.          0.20676853  0.24905624  0.\n",
      "  0.          1.21977649  0.          0.          0.83663171  0.\n",
      "  0.          0.          0.          0.          0.          0.\n",
      "  0.          0.          0.          0.          0.          0.\n",
      "  0.          0.02367224  0.          0.         -0.10758502  0.\n",
      "  0.          0.          0.          0.          0.          0.\n",
      "  0.          0.          0.          0.          0.          0.\n",
      "  0.          0.         -0.36793676  0.         -0.10887959  0.\n",
      "  0.          0.          0.          0.          0.          0.\n",
      "  0.          0.          0.          0.          0.          0.\n",
      "  0.          0.07083472  0.          0.          0.         -0.29069294\n",
      "  0.          0.          0.          0.          0.          0.\n",
      "  0.          0.          0.          0.          0.          0.        ]\n",
      "非零權重的個數:  16\n",
      "Average Weight Size:  0.006921253552252724\n",
      "--------------- lambda =  1  -------------------\n",
      "Training loss: 59.96915307496806\n",
      "RMSE: 10.599378154630587\n",
      "MAE: 7.994548657853032\n",
      "Intercept: 1997.866426714658\n",
      "Feature weights: [ 1.48099332  0.         -0.34057039  0.          0.         -1.10097495\n",
      "  0.          0.          0.          0.          0.          0.\n",
      "  0.          0.          0.          0.          0.          0.\n",
      "  0.          0.87320578  0.          0.          0.          0.\n",
      "  0.          0.          0.          0.          0.          0.\n",
      "  0.          0.          0.          0.          0.          0.\n",
      "  0.          0.          0.          0.          0.          0.\n",
      "  0.          0.          0.          0.          0.          0.\n",
      "  0.          0.          0.          0.          0.          0.\n",
      "  0.          0.          0.          0.          0.          0.\n",
      "  0.          0.          0.          0.          0.          0.\n",
      "  0.          0.          0.          0.          0.          0.\n",
      "  0.          0.          0.          0.          0.          0.\n",
      "  0.          0.          0.          0.          0.          0.\n",
      "  0.          0.          0.          0.          0.          0.        ]\n",
      "非零權重的個數:  4\n",
      "Average Weight Size:  0.01014059728318994\n",
      "--------------- lambda =  2  -------------------\n",
      "Training loss: 61.81132123460338\n",
      "RMSE: 11.049300014997197\n",
      "MAE: 8.503552369093669\n",
      "Intercept: 1997.4670131947219\n",
      "Feature weights: [0.38390291 0.         0.         0.         0.         0.\n",
      " 0.         0.         0.         0.         0.         0.\n",
      " 0.         0.         0.         0.         0.         0.\n",
      " 0.         0.         0.         0.         0.         0.\n",
      " 0.         0.         0.         0.         0.         0.\n",
      " 0.         0.         0.         0.         0.         0.\n",
      " 0.         0.         0.         0.         0.         0.\n",
      " 0.         0.         0.         0.         0.         0.\n",
      " 0.         0.         0.         0.         0.         0.\n",
      " 0.         0.         0.         0.         0.         0.\n",
      " 0.         0.         0.         0.         0.         0.\n",
      " 0.         0.         0.         0.         0.         0.\n",
      " 0.         0.         0.         0.         0.         0.\n",
      " 0.         0.         0.         0.         0.         0.\n",
      " 0.         0.         0.         0.         0.         0.        ]\n",
      "非零權重的個數:  1\n",
      "Average Weight Size:  0.004265587910527189\n"
     ]
    }
   ],
   "source": [
    "lambda_lst = [0.0001, 0.0005, 0.001, 0.005, 0.01, 0.05, 0.1, 0.5, 1, 2]\n",
    "training_loss = []\n",
    "nonzero_num = []\n",
    "averge_weight_size = []\n",
    "training_rmse = []\n",
    "test_rmse = []\n",
    "for i in lambda_lst:\n",
    "    print('--------------- lambda = ', i, ' -------------------')\n",
    "    lasso = mylasso(i, 1000, 1e-6)\n",
    "    lasso.fit(X_train_sd, Y_train, \"ridge\",True, False)\n",
    "    result = lasso.result()\n",
    "    training_loss.append(result[0])\n",
    "    training_rmse.append(result[1])\n",
    "    nonzero_num.append(result[5])\n",
    "    averge_weight_size.append(result[6])\n",
    "    y_predicts = lasso.predict(X_test_sd)\n",
    "    rmse = np.sqrt((np.square(np.subtract(y_predicts, Y_test))).mean())\n",
    "    test_rmse.append(rmse)"
   ]
  },
  {
   "cell_type": "markdown",
   "metadata": {},
   "source": [
    "### 折線圖與觀察：隨著 lambda 的增加，training loss、training rmse、test rmse 持續增加，number of nonzero weights 則逐漸減少，而 average weight size 有起有落。"
   ]
  },
  {
   "cell_type": "code",
   "execution_count": 95,
   "metadata": {},
   "outputs": [
    {
     "name": "stdout",
     "output_type": "stream",
     "text": [
      "Training Loss:  [46.570460237674276, 46.58737437021037, 46.60845532891931, 46.77465366236993, 46.97682719863592, 48.417585780569055, 49.88919849390567, 56.39564803547887, 59.96915307496806, 61.81132123460338]\n",
      "\n",
      "Number of Nonzero Weights:  [90, 90, 90, 88, 87, 76, 59, 16, 4, 1]\n",
      "\n",
      "Average Weight Size (Mean of Absolute Weight): [0.002287228870819746, 0.002471128961597367, 0.0027010040750673, 0.0046618372893675285, 0.0057339364890353255, 0.012592779463539797, 0.014988827469725482, 0.006921253552252724, 0.01014059728318994, 0.004265587910527189]\n",
      "\n",
      "Training RMSE:  [9.65051565680034, 9.650519070991674, 9.65052974033181, 9.65086679873059, 9.651758831060382, 9.67262653137704, 9.719682740135507, 10.098972615673835, 10.599378154630587, 11.049300014997197]\n",
      "\n",
      "Test RMSE:  [9.644299786080719, 9.643940654706666, 9.643498863193056, 9.64025810308054, 9.63657293202623, 9.626705348753143, 9.64898266728784, 10.004916341387593, 10.49260663601527, 10.954786472216894]\n",
      "\n",
      "Training Loss vs lambda\n"
     ]
    },
    {
     "data": {
      "image/png": "[encoded data removed]",
      "text/plain": [
       "<Figure size 432x288 with 1 Axes>"
      ]
     },
     "metadata": {
      "needs_background": "light"
     },
     "output_type": "display_data"
    },
    {
     "name": "stdout",
     "output_type": "stream",
     "text": [
      "Number of Nonzero Weights vs lambda\n"
     ]
    },
    {
     "data": {
      "image/png": "[encoded data removed]",
      "text/plain": [
       "<Figure size 432x288 with 1 Axes>"
      ]
     },
     "metadata": {
      "needs_background": "light"
     },
     "output_type": "display_data"
    },
    {
     "name": "stdout",
     "output_type": "stream",
     "text": [
      "Average Weight Size (Mean of Absolute Weight) vs lambda\n"
     ]
    },
    {
     "data": {
      "image/png": "[encoded data removed]",
      "text/plain": [
       "<Figure size 432x288 with 1 Axes>"
      ]
     },
     "metadata": {
      "needs_background": "light"
     },
     "output_type": "display_data"
    },
    {
     "name": "stdout",
     "output_type": "stream",
     "text": [
      "Training RMSE vs lambda\n"
     ]
    },
    {
     "data": {
      "image/png": "[encoded data removed]",
      "text/plain": [
       "<Figure size 432x288 with 1 Axes>"
      ]
     },
     "metadata": {
      "needs_background": "light"
     },
     "output_type": "display_data"
    },
    {
     "name": "stdout",
     "output_type": "stream",
     "text": [
      "Test RMSE vs lambda\n"
     ]
    },
    {
     "data": {
      "image/png": "[encoded data removed]",
      "text/plain": [
       "<Figure size 432x288 with 1 Axes>"
      ]
     },
     "metadata": {
      "needs_background": "light"
     },
     "output_type": "display_data"
    }
   ],
   "source": [
    "print('Training Loss: ', training_loss)\n",
    "print('\\nNumber of Nonzero Weights: ', nonzero_num)\n",
    "print('\\nAverage Weight Size (Mean of Absolute Weight):', averge_weight_size)\n",
    "print('\\nTraining RMSE: ', training_rmse)\n",
    "print('\\nTest RMSE: ', test_rmse)\n",
    "print('\\nTraining Loss vs lambda')\n",
    "plt.plot(lambda_lst, training_loss)\n",
    "plt.show()\n",
    "print('Number of Nonzero Weights vs lambda')\n",
    "plt.plot(lambda_lst, nonzero_num)\n",
    "plt.show()\n",
    "print('Average Weight Size (Mean of Absolute Weight) vs lambda')\n",
    "plt.plot(lambda_lst, averge_weight_size)\n",
    "plt.show()\n",
    "print('Training RMSE vs lambda')\n",
    "plt.plot(lambda_lst, training_rmse)\n",
    "plt.show()\n",
    "print('Test RMSE vs lambda')\n",
    "plt.plot(lambda_lst, test_rmse)\n",
    "plt.show()"
   ]
  }
 ],
 "metadata": {
  "kernelspec": {
   "display_name": "Python 3",
   "language": "python",
   "name": "python3"
  },
  "language_info": {
   "codemirror_mode": {
    "name": "ipython",
    "version": 3
   },
   "file_extension": ".py",
   "mimetype": "text/x-python",
   "name": "python",
   "nbconvert_exporter": "python",
   "pygments_lexer": "ipython3",
   "version": "3.8.3"
  }
 },
 "nbformat": 4,
 "nbformat_minor": 4
}
