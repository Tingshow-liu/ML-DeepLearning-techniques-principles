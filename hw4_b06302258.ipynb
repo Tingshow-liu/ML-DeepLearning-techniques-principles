{
 "cells": [
  {
   "cell_type": "markdown",
   "metadata": {
    "id": "QRW6YBiph1xA"
   },
   "source": [
    "### 統計學習與深度學習\n",
    "### Homework 4\n",
    "\n",
    "請將IPYNB檔與IPYNB Export之HTML檔上傳至COOL作業區。回答作業時建議使用 \"三明治\" 答題法。也就是說，先說明要做什麼，然後列出程式碼與結果，最後說明這些結果的意義。作業自己做。嚴禁抄襲。不接受紙本繳交，不接受遲交。請以英文或中文作答。\n",
    "\n",
    "#### Multilayer Perceptrons for Regression\n",
    "本次作業的主角是 Multilayer perceptrons (MLP)。我們將以MLP建構迴歸模型，探討各項相關議題。\n",
    "\n",
    "\n",
    "#### Dataset: Million Songs Dataset\n",
    "本次作業將使用\"Million Songs Dataset\"作為訓練與測試資料。請使用`pickle.load()`載入*msd_full.pickle*。這個資料集已經切割好了訓練與測試資料，並存放在一個Dictionary的結構。這個Dictionary有四個元素，x_train, y_train, x_test, y_test，分別對應到訓練特徵、訓練標記(Label)、測試特徵、測試標記。 標記變數 (label variable; i.e., $y$) 是歌曲發行年度。特徵為歌曲的聲音特性。迴歸任務為預測歌曲年分。\n",
    "\n",
    "#### Prediction Performance and Loss Function\n",
    "模型訓練應主要使用Sum of Squared Error (SSE)建構Loss Function，另外我們也會練習使用其他種類的Loss Function。為了讓圖表易於理解，不論Loss Function為何，報告預測能力應使用Root Mean Squared Error (RMSE)。使用SSE或RMSE建構Loss Function在本質上沒有差別。但SSE計算成本稍低，而RMSE較有直觀意義。\n",
    "\n",
    "\n",
    "#### Subtraining, Validation, and Test Datasets\n",
    "*msd_full.pickle* 檔案中的訓練資料已經隨機排序過。你應該使用訓練資料最後10%的資料做為Validation Set。其餘的前90%做為Subtraining Set。使用Subtraining Set來訓練資料，並以Validation Set作為參數調教與Early Stopping的依據。Test RMSE應使用測試資料計算得之。\n",
    "\n",
    "所有特徵應該標準化(均數為零，變異數為一)。標準化應該以訓練資料(注意不是Test Set or Subtraining Set)的統計量為之。標記變數(i.e., $y$)應將均數平移至0 (依照訓練資料的統計量)。標記變數的變異數不要調整。\n",
    "\n",
    "\n",
    "#### Minibatch, Epoch, and Early Stopping\n",
    "如果沒有特別說明，模型訓練時應以大小為1,000個資料點的Minibatch為之。模型使用一個Minibatch的資料更新參數之後稱為經歷了一個Batch。當所有Subtraining資料已經用來更新過模型參數，稱為經過了一個Epoch。\n",
    "\n",
    "模型訓練應使用Early Stopping決定最佳的模型。模型訓練時每100個Batch計算一次Training and Validation RMSE。如果Validation為歷史最低，則記下當下的模型參數與當時已進行的Batch數量，稱為best_step_count。如由best_step_count起算已經經過了5,000個Batch而沒有更好的Validation RMSE，則停止模型訓練，並以best_step_count時的模型參數做為最後的模型訓練結果。如果模型訓練最多執行100個epoch。如果模型已經執行了100個epoch而沒有Early Stop，則應使用歷史最佳的Validation RMSE所對應到的模型參數計算Test RMSE。\n",
    "\n",
    "\n",
    "#### Implementation Restriction\n",
    "使用Pytorch建構MLP模型。Ordinary Least Square (OLS)模型訓練沒有限制使用何種套件。\n",
    "\n",
    "#### 資料載入\n",
    "使用下面的程式碼載入資料:"
   ]
  },
  {
   "cell_type": "code",
   "execution_count": null,
   "metadata": {
    "colab": {
     "base_uri": "https://localhost:8080/"
    },
    "id": "x8JEmkQijzb2",
    "outputId": "406e069e-4af2-44d1-8528-69ed7e131239"
   },
   "outputs": [
    {
     "name": "stdout",
     "output_type": "stream",
     "text": [
      "Requirement already satisfied: gdown in /usr/local/lib/python3.7/dist-packages (3.6.4)\n",
      "Requirement already satisfied: requests in /usr/local/lib/python3.7/dist-packages (from gdown) (2.23.0)\n",
      "Requirement already satisfied: tqdm in /usr/local/lib/python3.7/dist-packages (from gdown) (4.62.3)\n",
      "Requirement already satisfied: six in /usr/local/lib/python3.7/dist-packages (from gdown) (1.15.0)\n",
      "Requirement already satisfied: certifi>=2017.4.17 in /usr/local/lib/python3.7/dist-packages (from requests->gdown) (2021.10.8)\n",
      "Requirement already satisfied: idna<3,>=2.5 in /usr/local/lib/python3.7/dist-packages (from requests->gdown) (2.10)\n",
      "Requirement already satisfied: urllib3!=1.25.0,!=1.25.1,<1.26,>=1.21.1 in /usr/local/lib/python3.7/dist-packages (from requests->gdown) (1.24.3)\n",
      "Requirement already satisfied: chardet<4,>=3.0.2 in /usr/local/lib/python3.7/dist-packages (from requests->gdown) (3.0.4)\n",
      "Downloading...\n",
      "From: https://drive.google.com/uc?id=1PLkuJ9lo8YB9vt_84tW9Z_xRPY_Ymued\n",
      "To: /content/msd_full.pickle\n",
      "100% 375M/375M [00:01<00:00, 210MB/s]\n"
     ]
    }
   ],
   "source": [
    "!pip install gdown\n",
    "!gdown --id \"1PLkuJ9lo8YB9vt_84tW9Z_xRPY_Ymued\"  "
   ]
  },
  {
   "cell_type": "code",
   "execution_count": null,
   "metadata": {
    "colab": {
     "base_uri": "https://localhost:8080/"
    },
    "id": "RGTOG8JBh1xF",
    "outputId": "0a0f1207-ff0f-4a84-b1bc-78d961776dea"
   },
   "outputs": [
    {
     "name": "stdout",
     "output_type": "stream",
     "text": [
      "X_train shape =  (463715, 90)\n",
      "X_subtrain shape =  (417344, 90)\n",
      "X_valid shape =  (46371, 90)\n",
      "Y_subtrain shape =  (417344,)\n",
      "Y_valid shape =  (46371,)\n",
      "X_test shape =  (51630, 90)\n"
     ]
    }
   ],
   "source": [
    "# load packages\n",
    "%matplotlib inline\n",
    "import pickle\n",
    "from sklearn import preprocessing\n",
    "\n",
    "# Load data\n",
    "with open('msd_full.pickle', 'rb') as fh1:\n",
    "    msd_data = pickle.load(fh1)\n",
    "\n",
    "doscaling = 1\n",
    "if (doscaling == 1):\n",
    "    xscaler = preprocessing.StandardScaler().fit(msd_data['X_train'])\n",
    "    # standardize feature values\n",
    "    X_train = xscaler.transform(msd_data['X_train'])\n",
    "    X_test = xscaler.transform(msd_data['X_test'])\n",
    "else:\n",
    "    X_train = msd_data['X_train']\n",
    "    X_test = msd_data['X_test']\n",
    "\n",
    "Y_train = msd_data['Y_train']\n",
    "Y_test = msd_data['Y_test'].astype('float32')\n",
    "X_test = X_test.astype('float32')\n",
    "\n",
    "y_mean = Y_train.mean()\n",
    "Y_train_keep = Y_train.copy()\n",
    "Y_test_keep = Y_test.copy()\n",
    "Y_train = Y_train - y_mean\n",
    "Y_test = Y_test - y_mean\n",
    "\n",
    "\n",
    "# validation is the last 10% of training, subtraining is the first 90% of training\n",
    "nvalid = int(X_train.shape[0] * 0.1)\n",
    "nsubtrain = X_train.shape[0] - nvalid\n",
    "\n",
    "X_subtrain = X_train[0:nsubtrain, :].astype('float32')\n",
    "X_valid = X_train[nsubtrain:, :].astype('float32')\n",
    "Y_subtrain = Y_train[0:nsubtrain].astype('float32')\n",
    "Y_valid = Y_train[nsubtrain:].astype('float32')\n",
    "\n",
    "Y_subtrain_keep = Y_train_keep[0:nsubtrain].astype('float32')\n",
    "Y_valid_keep = Y_train_keep[nsubtrain:].astype('float32')\n",
    "\n",
    "print(\"X_train shape = \", X_train.shape)\n",
    "print(\"X_subtrain shape = \", X_subtrain.shape)\n",
    "print(\"X_valid shape = \", X_valid.shape)\n",
    "print(\"Y_subtrain shape = \", Y_subtrain.shape)\n",
    "print(\"Y_valid shape = \", Y_valid.shape)\n",
    "print(\"X_test shape = \", X_test.shape)"
   ]
  },
  {
   "cell_type": "markdown",
   "metadata": {
    "id": "Yt_4Mj_6h1xH"
   },
   "source": [
    "### 回答下面問題"
   ]
  },
  {
   "cell_type": "markdown",
   "metadata": {
    "id": "9yL-BZTnl0od"
   },
   "source": [
    "#### Q1 (5%)\n",
    "使用Training資料訓練一個Ordinary Least Square模型，並進行預測。列出此模型的RMSE與前五個特徵的參數。OLS模型應包含常數項，且不應有任何Regularization。"
   ]
  },
  {
   "cell_type": "code",
   "execution_count": null,
   "metadata": {
    "id": "T4GTsjI6mdka"
   },
   "outputs": [],
   "source": [
    "from sklearn.linear_model import LinearRegression\n",
    "from sklearn.metrics import mean_squared_error"
   ]
  },
  {
   "cell_type": "code",
   "execution_count": null,
   "metadata": {
    "colab": {
     "base_uri": "https://localhost:8080/"
    },
    "id": "lOO3qlswm4UF",
    "outputId": "b4e43648-5cc4-43a9-9b43-654499eef896"
   },
   "outputs": [
    {
     "name": "stdout",
     "output_type": "stream",
     "text": [
      "RMSE: 9.510160684544399\n",
      "前五個特徵的參數: [ 5.30975265 -2.88088114 -1.53234348  0.05737583 -0.33952889]\n"
     ]
    }
   ],
   "source": [
    "rg = LinearRegression().fit(X_train, Y_train)\n",
    "y_predict = rg.predict(X_test)\n",
    "rmse = mean_squared_error(Y_test, y_predict, squared=False)\n",
    "top_five = rg.coef_[:5]\n",
    "print('RMSE:',  rmse)\n",
    "print('前五個特徵的參數:', top_five)"
   ]
  },
  {
   "cell_type": "markdown",
   "metadata": {
    "id": "V_ePg3iDl3oq"
   },
   "source": [
    "#### Q2 MLP with Four Hidden Layers (15%)\n",
    "建構一個有四層Hidden Layer的MLP。此模型由輸入層開始，90個Input Features通過線性層轉換為H個Hidden Nodes，並通過ReLu Activation Function，此為第一層Hidden Layer。\n",
    "接著通過下一個線性層與ReLu Activation Function，此為第二層。接著下一個線性層與ReLu Activation Function，此為第三層。\n",
    "然後下一個線性層與ReLu Activation Function，此為第四層。最後通過一個線性層輸出。\n",
    "所有Hidden Layer的寬度都為H。\n",
    "\n",
    "令H= 45, 使用Stochastic Gradient Descent更新參數，設Learning Rate = 0.00001，無Weight Decay與Momentum。畫出模型訓練過程中的Training與Validation RMSE，列出Test RMSE。 並討論訓練過程中Training與Validation RMSE的圖形意義。"
   ]
  },
  {
   "cell_type": "code",
   "execution_count": null,
   "metadata": {
    "id": "JouPgyCAN4Lu"
   },
   "outputs": [],
   "source": [
    "%matplotlib inline\n",
    "\n",
    "import pandas as pd\n",
    "import numpy as np\n",
    "import matplotlib.pyplot as plt\n",
    "import math\n",
    "import torch\n",
    "import torch.nn as nn  # 定義基本的 layer 元件\n",
    "import torch.nn.functional as F  # 定義 activation function 等\n",
    "import torch.utils.data as Data  \n",
    "from torch.utils.data import Dataset, DataLoader  # 定義 Dataset 及 DataLoader 等資料相關 Class\n",
    "from torch.autograd import Variable"
   ]
  },
  {
   "cell_type": "code",
   "execution_count": null,
   "metadata": {
    "id": "HyfQ8R7FYWAH"
   },
   "outputs": [],
   "source": [
    "# 打包 tensor\n",
    "for_train = Data.TensorDataset(torch.Tensor(X_subtrain), torch.Tensor(Y_subtrain))\n",
    "for_valid = Data.TensorDataset(torch.Tensor(X_valid), torch.Tensor(Y_valid))\n",
    "for_test = Data.TensorDataset(torch.Tensor(X_test), torch.Tensor(Y_test))\n",
    "\n",
    "# 進行數據封裝\n",
    "train_data = Data.DataLoader(for_train, batch_size=1000, shuffle=False)\n",
    "valid_data = Data.DataLoader(for_valid, batch_size=1000, shuffle=False)\n",
    "test_data = Data.DataLoader(for_test, batch_size=1000, shuffle=False)"
   ]
  },
  {
   "cell_type": "code",
   "execution_count": null,
   "metadata": {
    "colab": {
     "base_uri": "https://localhost:8080/"
    },
    "id": "oPN-9V5uboIi",
    "outputId": "9a25345b-64a9-43af-bc45-b7475a18d04f"
   },
   "outputs": [
    {
     "name": "stdout",
     "output_type": "stream",
     "text": [
      "CUDA is available!  Train on GPU ...\n"
     ]
    }
   ],
   "source": [
    "use_gpu = torch.cuda.is_available()\n",
    "\n",
    "if not use_gpu:\n",
    "    print('CUDA is not available.  Train on CPU ...')\n",
    "else:\n",
    "    print('CUDA is available!  Train on GPU ...')"
   ]
  },
  {
   "cell_type": "code",
   "execution_count": null,
   "metadata": {
    "id": "MFsqp5CGc-4x"
   },
   "outputs": [],
   "source": [
    "class MyOwnNet(nn.Module):\n",
    "    def __init__(self, input_size, hidden_nodes_size, num_of_classes):\n",
    "        super(MyOwnNet, self).__init__()  # 初始化 nn.Module class\n",
    "        self.func0 = nn.Linear(input_size, hidden_nodes_size)\n",
    "        self.relu0 = nn.ReLU()\n",
    "        self.func1 = nn.Linear(hidden_nodes_size, hidden_nodes_size)\n",
    "        self.relu1 = nn.ReLU()\n",
    "        self.func2 = nn.Linear(hidden_nodes_size, hidden_nodes_size)\n",
    "        self.relu2 = nn.ReLU()\n",
    "        self.func3 = nn.Linear(hidden_nodes_size, hidden_nodes_size)\n",
    "        self.relu3 = nn.ReLU()\n",
    "        self.func4 = nn.Linear(hidden_nodes_size, num_of_classes)\n",
    "\n",
    "    def forward(self, x):\n",
    "        outputs = self.func0(x)\n",
    "        outputs = self.relu0(outputs)  # input\n",
    "        outputs = self.func1(outputs)\n",
    "        outputs = self.relu1(outputs)  # layer1\n",
    "        outputs = self.func2(outputs)\n",
    "        outputs = self.relu2(outputs)  # layer2\n",
    "        outputs = self.func3(outputs)\n",
    "        outputs = self.relu3(outputs)  # layer3\n",
    "        outputs = self.func4(outputs)\n",
    "        return outputs"
   ]
  },
  {
   "cell_type": "code",
   "execution_count": null,
   "metadata": {
    "id": "H9xHbOGAw7hG"
   },
   "outputs": [],
   "source": [
    "def my_model(hidden_nodes_size, weight_decay, plot_rmse):\n",
    "    Net = MyOwnNet(input_size=90, hidden_nodes_size=hidden_nodes_size, num_of_classes=1).cuda()\n",
    "\n",
    "    calc_loss = nn.MSELoss(reduction='sum')  # loss\n",
    "    optimizer = torch.optim.SGD(Net.parameters(), lr=0.00001, weight_decay=weight_decay)  # optimizer\n",
    "\n",
    "    epoch_num = 100\n",
    "    min_loss = 500000  # 先隨便設\n",
    "    limit = 5000\n",
    "    train_RMSEs = []\n",
    "    valid_RMSEs = []\n",
    "    count = 0\n",
    "    best_count = 0\n",
    "    done = False\n",
    "    total_training_loss = 0\n",
    "    total_points = 0\n",
    "\n",
    "    '''Training'''\n",
    "    for epoch in range(1, epoch_num+1):\n",
    "        for step, (x_batch, y_batch) in enumerate(train_data):\n",
    "            count += 1\n",
    "            total_points += len(x_batch)\n",
    "\n",
    "            # 定義一個 Variable\n",
    "            x_batch1 = Variable(x_batch).cuda()   \n",
    "            y_batch1 = Variable(y_batch).cuda()   \n",
    "\n",
    "            Net.train()\n",
    "            optimizer.zero_grad()  # 將模型的參數梯度初始化為0\n",
    "\n",
    "            predict = Net(x_batch1)\n",
    "            predict = predict.squeeze(-1)  # 壓縮維度\n",
    "\n",
    "            training_loss = calc_loss(predict, y_batch1)\n",
    "            training_loss.backward()  # 進行Backward Propagation\n",
    "            optimizer.step()  # 針對Backward Propagation所得到的梯度調整參數\n",
    "\n",
    "            total_training_loss += training_loss\n",
    "\n",
    "            # 模型訓練時每100個Batch計算一次Training and Validation RMSE\n",
    "            if count % 100 == 0:  \n",
    "                train_rmse = math.sqrt(total_training_loss / (total_points))\n",
    "                train_RMSEs.append(train_rmse)\n",
    "\n",
    "                '''Validation'''\n",
    "                Net.eval()  # 不隨機捨棄神經元\n",
    "                total_validation_loss = 0\n",
    "                \n",
    "                for step, (x_batch, y_batch) in enumerate(valid_data):\n",
    "                    x_batch1 = Variable(x_batch).cuda()   \n",
    "                    y_batch1 = Variable(y_batch).cuda()   \n",
    "\n",
    "                    predict = Net(x_batch1)\n",
    "                    predict = predict.squeeze(-1)\n",
    "                    validation_loss = calc_loss(predict, y_batch1)\n",
    "                    total_validation_loss += validation_loss\n",
    "\n",
    "                validation_rmse = math.sqrt(total_validation_loss / (len(X_valid)))\n",
    "                valid_RMSEs.append(validation_rmse)\n",
    "\n",
    "                if validation_rmse < min_loss:\n",
    "                    best_count = count\n",
    "                    min_loss = validation_rmse\n",
    "                    chosen_model = Net\n",
    "\n",
    "            if count > (best_count + limit) and validation_loss > min_loss:  # Early stopping\n",
    "                done = True\n",
    "                break      \n",
    "        if done == True:\n",
    "            break\n",
    "    \n",
    "    # 畫圖\n",
    "    if plot_rmse == True:\n",
    "        list_x = np.linspace(100, int(count - 1), int((count - 1) / 100))\n",
    "        plt.plot(list_x, train_RMSEs, label = 'Training RMSE')\n",
    "        plt.plot(list_x, valid_RMSEs, label = 'Validation RMSE')\n",
    "        plt.legend()\n",
    "        plt.xlabel('Step count')\n",
    "        plt.ylabel('RMSE')\n",
    "\n",
    "    '''列出列出 test rmse'''\n",
    "    chosen_model.eval()\n",
    "    total_testing_loss = 0\n",
    "\n",
    "    for step, (x_batch, y_batch) in enumerate(test_data):\n",
    "        x_batch1 = Variable(x_batch).cuda()\n",
    "        y_batch1 = Variable(y_batch).cuda()     \n",
    "\n",
    "        predict_output = Net(x_batch1)\n",
    "        predict_output = predict_output.squeeze(-1)\n",
    "        testing_loss = calc_loss(predict_output, y_batch1)\n",
    "        total_testing_loss += testing_loss\n",
    "\n",
    "    testing_rmse = math.sqrt(total_testing_loss / (len(X_test)))          \n",
    "    # print('RMSE: ', testing_rmse)\n",
    "\n",
    "    return testing_rmse"
   ]
  },
  {
   "cell_type": "code",
   "execution_count": null,
   "metadata": {
    "colab": {
     "base_uri": "https://localhost:8080/",
     "height": 296
    },
    "id": "QWZ2fMBbNhit",
    "outputId": "26c5a9fe-12fe-4efb-abde-c276f9c6a8e0"
   },
   "outputs": [
    {
     "name": "stdout",
     "output_type": "stream",
     "text": [
      "Test RMSE:  8.982402976510343\n"
     ]
    },
    {
     "data": {
      "image/png": "[encoded data removed]",
      "text/plain": [
       "<Figure size 432x288 with 1 Axes>"
      ]
     },
     "metadata": {
      "needs_background": "light"
     },
     "output_type": "display_data"
    }
   ],
   "source": [
    "rmse = my_model(hidden_nodes_size=45, weight_decay=0, plot_rmse = True)\n",
    "print('Test RMSE: ', rmse)"
   ]
  },
  {
   "cell_type": "markdown",
   "metadata": {
    "id": "6x9U-AGiE81S"
   },
   "source": [
    "#### 圖形意義：Training RMSE 和 Validation RMSE 一開始會先下降，而後趨於穩定；training RMSE為平滑曲線，validation RMSE 則會有所波動"
   ]
  },
  {
   "cell_type": "markdown",
   "metadata": {
    "id": "W8op_VX3l_u3"
   },
   "source": [
    "#### Q3 (10%)\n",
    "重複上題步驟，使用H = 90與180。無須畫訓練過程的RMSE。列出這兩個Test RMSE。討論H = 45, 90, 180的Test RMSE。"
   ]
  },
  {
   "cell_type": "code",
   "execution_count": null,
   "metadata": {
    "colab": {
     "base_uri": "https://localhost:8080/"
    },
    "id": "UWo2bB15SzSO",
    "outputId": "274cc315-32c2-4317-a8ac-1871a6a75b5d"
   },
   "outputs": [
    {
     "name": "stdout",
     "output_type": "stream",
     "text": [
      "Test RMSE:  9.010800133338257\n"
     ]
    }
   ],
   "source": [
    "rmse = my_model(hidden_nodes_size=90, weight_decay=0, plot_rmse = False)\n",
    "print('Test RMSE: ', rmse)"
   ]
  },
  {
   "cell_type": "code",
   "execution_count": null,
   "metadata": {
    "colab": {
     "base_uri": "https://localhost:8080/"
    },
    "id": "_Q7jlxcWS9RL",
    "outputId": "7f055164-e4c4-4e65-8d9d-d2f4c4ac516f"
   },
   "outputs": [
    {
     "name": "stdout",
     "output_type": "stream",
     "text": [
      "Test RMSE:  9.123389114954547\n"
     ]
    }
   ],
   "source": [
    "rmse = my_model(hidden_nodes_size=180, weight_decay=0, plot_rmse = False)\n",
    "print('Test RMSE: ', rmse)"
   ]
  },
  {
   "cell_type": "markdown",
   "metadata": {
    "id": "H87RIBV6eHgU"
   },
   "source": [
    "#### Test RMSE 在 H=45 時最小，隨著 H 變大，Test RMSE 也逐漸上升 (H=180時最大)"
   ]
  },
  {
   "cell_type": "markdown",
   "metadata": {
    "id": "p7XVx80VmDcX"
   },
   "source": [
    "#### Q4 (15%)\n",
    "使用Q2的模型設定，考慮 H = 45, 90, 180與Weight Decay = 0.1, 0.2, 0.4的所有組合。模型估計後做表整理Test RMSE。討論H的選擇應為多少較合理?"
   ]
  },
  {
   "cell_type": "code",
   "execution_count": null,
   "metadata": {
    "colab": {
     "base_uri": "https://localhost:8080/"
    },
    "id": "uiDZ--QWq-oM",
    "outputId": "c42bf556-60b1-43d1-a1b6-08b3c50f5a01"
   },
   "outputs": [
    {
     "name": "stdout",
     "output_type": "stream",
     "text": [
      "H = 45  |  Weight decay = 0.1  |  Test RMSE: 8.877401967131778\n",
      "H = 45  |  Weight decay = 0.2  |  Test RMSE: 8.877487049055738\n",
      "H = 45  |  Weight decay = 0.4  |  Test RMSE: 8.899219830211285\n",
      "H = 90  |  Weight decay = 0.1  |  Test RMSE: 9.070444978441444\n",
      "H = 90  |  Weight decay = 0.2  |  Test RMSE: 8.954781423997042\n",
      "H = 90  |  Weight decay = 0.4  |  Test RMSE: 8.939614212621695\n",
      "H = 180  |  Weight decay = 0.1  |  Test RMSE: 9.320342378016862\n",
      "H = 180  |  Weight decay = 0.2  |  Test RMSE: 9.456306363559923\n",
      "H = 180  |  Weight decay = 0.4  |  Test RMSE: 9.13042424598228\n"
     ]
    }
   ],
   "source": [
    "weight_list = [0.1, 0.2, 0.4]\n",
    "h_list = [45, 90, 180]\n",
    "\n",
    "for h in h_list:\n",
    "    for w in weight_list:\n",
    "        rmse = my_model(hidden_nodes_size=h, weight_decay=w, plot_rmse = False)\n",
    "        print('H = ' + str(h) + '  |  ' + 'Weight decay = ' + str(w) + '  |  ' + 'Test RMSE: ' + str(rmse))"
   ]
  },
  {
   "cell_type": "markdown",
   "metadata": {
    "id": "ptBGSBC1FadQ"
   },
   "source": [
    "#### 無論選擇 weight decay 為多少，H = 45 的表現都最好 (RMSE 最小)，因此應選擇應選擇 H = 45"
   ]
  },
  {
   "cell_type": "markdown",
   "metadata": {
    "id": "cYFpESWRmEpQ"
   },
   "source": [
    "#### Q5 MLP with Dropout (15%)\n",
    "建構一個有Dropout的四層Hidden Layer的MLP。此模型由輸入層開始，第一層由90個Input Features通過線性層轉換為H個Hidden Nodes，通過ReLu Activation Function，之後對Hidden Unit Dropout，機率為0.5。後面各Hidden Lyaer均在ReLu後有Dropout，機率皆為0.5。最後通過一個線性層輸出。所有Hidden Layer的寬度都為H。\n",
    "\n",
    "令H= 90, 使用Adaptive Moment Estimation (Adam)更新參數，設Learning Rate = 0.001，無Weight Decay與Momentum，其他參數使用預設值。畫出模型訓練過程中的Training與Validation RMSE，列出Test RMSE。 並討論訓練過程中Training與Validation RMSE的圖形意義。"
   ]
  },
  {
   "cell_type": "code",
   "execution_count": null,
   "metadata": {
    "id": "BAQIqhptt3FI"
   },
   "outputs": [],
   "source": [
    "class MyOwnNet1(nn.Module):\n",
    "    def __init__(self, input_size, hidden_nodes_size, num_of_classes):\n",
    "        super(MyOwnNet1, self).__init__()  # 初始化 nn.Module class\n",
    "        self.func0 = nn.Linear(input_size, hidden_nodes_size)\n",
    "        self.relu0 = nn.ReLU()\n",
    "        self.drop0 = nn.Dropout(p=0.5)\n",
    "        self.func1 = nn.Linear(hidden_nodes_size, hidden_nodes_size)\n",
    "        self.relu1 = nn.ReLU()\n",
    "        self.drop1 = nn.Dropout(p=0.5)\n",
    "        self.func2 = nn.Linear(hidden_nodes_size, hidden_nodes_size)\n",
    "        self.relu2 = nn.ReLU()\n",
    "        self.drop2 = nn.Dropout(p=0.5)\n",
    "        self.func3 = nn.Linear(hidden_nodes_size, hidden_nodes_size)\n",
    "        self.relu3 = nn.ReLU()\n",
    "        self.drop3 = nn.Dropout(p=0.5)\n",
    "        self.func4 = nn.Linear(hidden_nodes_size, num_of_classes)\n",
    "\n",
    "    def forward(self, x):\n",
    "        outputs = self.func0(x)\n",
    "        outputs = self.relu0(outputs)  \n",
    "        outputs = self.drop0(outputs)  # input\n",
    "        outputs = self.func1(outputs)\n",
    "        outputs = self.relu1(outputs)  \n",
    "        outputs = self.drop1(outputs)  # layer1\n",
    "        outputs = self.func2(outputs)\n",
    "        outputs = self.relu2(outputs)  \n",
    "        outputs = self.drop2(outputs)  # layer2\n",
    "        outputs = self.func3(outputs)\n",
    "        outputs = self.relu3(outputs)  \n",
    "        outputs = self.drop3(outputs)  # layer3\n",
    "        outputs = self.func4(outputs)\n",
    "        return outputs"
   ]
  },
  {
   "cell_type": "code",
   "execution_count": null,
   "metadata": {
    "id": "0ncN4bp9ud8Z"
   },
   "outputs": [],
   "source": [
    "def my_model1(hidden_nodes_size, weight_decay, plot_rmse):\n",
    "    Net = MyOwnNet1(input_size=90, hidden_nodes_size=hidden_nodes_size, num_of_classes=1).cuda()\n",
    "\n",
    "    calc_loss = nn.MSELoss(reduction='sum')  # loss\n",
    "    optimizer = torch.optim.Adam(Net.parameters(), lr=0.001, weight_decay=weight_decay)  # optimizer\n",
    "\n",
    "    epoch_num = 100\n",
    "    min_loss = 500000  # 先隨便設\n",
    "    limit = 5000\n",
    "    train_RMSEs = []\n",
    "    valid_RMSEs = []\n",
    "    count = 0\n",
    "    best_count = 0\n",
    "    done = False\n",
    "    total_training_loss = 0\n",
    "    total_points = 0\n",
    "\n",
    "    '''Training'''\n",
    "    for epoch in range(1, epoch_num+1):\n",
    "        for step, (x_batch, y_batch) in enumerate(train_data):\n",
    "            count += 1\n",
    "            total_points += len(x_batch)\n",
    "\n",
    "            # 定義一個 Variable\n",
    "            x_batch1 = Variable(x_batch).cuda()   \n",
    "            y_batch1 = Variable(y_batch).cuda()   \n",
    "\n",
    "            Net.train()\n",
    "            optimizer.zero_grad()  # 將模型的參數梯度初始化為0\n",
    "\n",
    "            predict = Net(x_batch1)\n",
    "            predict = predict.squeeze(-1)  # 壓縮維度\n",
    "\n",
    "            training_loss = calc_loss(predict, y_batch1)\n",
    "            training_loss.backward()  # 進行Backward Propagation\n",
    "            optimizer.step()  # 針對Backward Propagation所得到的梯度調整參數\n",
    "\n",
    "            total_training_loss += training_loss\n",
    "\n",
    "            # 模型訓練時每100個Batch計算一次Training and Validation RMSE\n",
    "            if count % 100 == 0:  \n",
    "                train_rmse = math.sqrt(total_training_loss / (total_points))\n",
    "                train_RMSEs.append(train_rmse)\n",
    "\n",
    "                '''Validation'''\n",
    "                Net.eval()  # 不隨機捨棄神經元\n",
    "                total_validation_loss = 0\n",
    "                \n",
    "                for step, (x_batch, y_batch) in enumerate(valid_data):\n",
    "                    x_batch1 = Variable(x_batch).cuda()   \n",
    "                    y_batch1 = Variable(y_batch).cuda()   \n",
    "\n",
    "                    predict = Net(x_batch1)\n",
    "                    predict = predict.squeeze(-1)\n",
    "                    validation_loss = calc_loss(predict, y_batch1)\n",
    "                    total_validation_loss += validation_loss\n",
    "\n",
    "                validation_rmse = math.sqrt(total_validation_loss / (len(X_valid)))\n",
    "                valid_RMSEs.append(validation_rmse)\n",
    "\n",
    "                if validation_rmse < min_loss:\n",
    "                    best_count = count\n",
    "                    min_loss = validation_rmse\n",
    "                    chosen_model = Net\n",
    "\n",
    "            if count > (best_count + limit) and validation_loss > min_loss:  # Early stopping\n",
    "                done = True\n",
    "                break      \n",
    "        if done == True:\n",
    "            break\n",
    "    \n",
    "    # 畫圖\n",
    "    if plot_rmse == True:\n",
    "        list_x = np.linspace(100, int(count - 1), int((count - 1) / 100))\n",
    "        plt.plot(list_x, train_RMSEs, label = 'Training RMSE')\n",
    "        plt.plot(list_x, valid_RMSEs, label = 'Validation RMSE')\n",
    "        plt.legend()\n",
    "        plt.xlabel('Step count')\n",
    "        plt.ylabel('RMSE')\n",
    "\n",
    "    '''列出列出 test rmse'''\n",
    "    chosen_model.eval()\n",
    "    total_testing_loss = 0\n",
    "\n",
    "    for step, (x_batch, y_batch) in enumerate(test_data):\n",
    "        x_batch1 = Variable(x_batch).cuda()\n",
    "        y_batch1 = Variable(y_batch).cuda()     \n",
    "\n",
    "        predict_output = Net(x_batch1)\n",
    "        predict_output = predict_output.squeeze(-1)\n",
    "        testing_loss = calc_loss(predict_output, y_batch1)\n",
    "        total_testing_loss += testing_loss\n",
    "\n",
    "    testing_rmse = math.sqrt(total_testing_loss / (len(X_test)))          \n",
    "    # print('RMSE: ', testing_rmse)\n",
    "\n",
    "    return testing_rmse"
   ]
  },
  {
   "cell_type": "code",
   "execution_count": null,
   "metadata": {
    "colab": {
     "base_uri": "https://localhost:8080/",
     "height": 296
    },
    "id": "FklkvmQryc4i",
    "outputId": "f62dbbc1-25d1-4c6b-d380-7ea711704ca2"
   },
   "outputs": [
    {
     "name": "stdout",
     "output_type": "stream",
     "text": [
      "Test RMSE:  8.776953029382149\n"
     ]
    },
    {
     "data": {
      "image/png": "[encoded data removed]",
      "text/plain": [
       "<Figure size 432x288 with 1 Axes>"
      ]
     },
     "metadata": {
      "needs_background": "light"
     },
     "output_type": "display_data"
    }
   ],
   "source": [
    "rmse = my_model1(hidden_nodes_size=90, weight_decay=0, plot_rmse = True)\n",
    "print('Test RMSE: ', rmse)"
   ]
  },
  {
   "cell_type": "markdown",
   "metadata": {
    "id": "qhYGTo8uFUTk"
   },
   "source": [
    "#### 圖形意義：Training RMSE 和 Validation RMSE 一開始會先下降，而後趨於穩定；training RMSE為平滑曲線，validation RMSE 則會小幅波動"
   ]
  },
  {
   "cell_type": "markdown",
   "metadata": {
    "id": "M8UvJNLFmL7e"
   },
   "source": [
    "#### Q6 Explore Number of Hidden Units (10%)\n",
    "使用上題的模型，考慮H = 20, 180, 360。 討論H = 20, 45, 180, 360的Test RMSE。"
   ]
  },
  {
   "cell_type": "code",
   "execution_count": null,
   "metadata": {
    "colab": {
     "base_uri": "https://localhost:8080/"
    },
    "id": "zm4tBPuia7rS",
    "outputId": "b374ad87-b77f-4e1e-ec2a-f3bcbd69068e"
   },
   "outputs": [
    {
     "name": "stdout",
     "output_type": "stream",
     "text": [
      "H = 20  |  Test RMSE: 9.066075113109475\n",
      "H = 45  |  Test RMSE: 8.865240184028169\n",
      "H = 180  |  Test RMSE: 8.77411924109943\n",
      "H = 360  |  Test RMSE: 8.747870921916023\n"
     ]
    }
   ],
   "source": [
    "h_list = [20, 45, 180, 360]\n",
    "\n",
    "for h in h_list:\n",
    "    rmse = my_model1(hidden_nodes_size=h, weight_decay=0, plot_rmse = False)\n",
    "    print('H = ' + str(h) +  '  |  ' + 'Test RMSE: ' + str(rmse))"
   ]
  },
  {
   "cell_type": "markdown",
   "metadata": {
    "id": "-Q3hca6JoAlX"
   },
   "source": [
    "#### H = 360 時 RMSE 最低，H = 20 時 RMSE 最高"
   ]
  },
  {
   "cell_type": "markdown",
   "metadata": {
    "id": "5ThVkqDnmQXN"
   },
   "source": [
    "#### Q7 L2 + L1 Loss (15%)\n",
    "我們前面的小題皆是使用SSE，也就是L2 Loss。一個改善模型訓練的方式是使用多種類似的Loss，以線性組合的方式建構Loss Function。請使用Q5中的MLP with Dropout模型 (H = 90)，並以L2 + L1 Loss訓練模型。這個Loss的定義如下:\n",
    "\n",
    "$$\n",
    "loss(\\mathbf{y}, \\hat{\\mathbf{y}}) = z \\sum_{i=1}^n (y_i - \\hat{y}_i)^2 + (1 - z) \\sum_{i = 1}^n | y_i - \\hat{y}_i |,\n",
    "$$\n",
    "其中z為實數且$0 <=z <= 1$。\n",
    "\n",
    "使用z = 0.5。並以Adam訓練模型。畫出Training and Validation RMSE，並報告Test RMSE。注意這裡繪圖時應使用RMSE而不是這個特殊的Loss。\n",
    "\n",
    "另外，使用z = 0.0, 0.1, 0.9, 1.0訓練模型(不須提供訓練過程的Loss圖形)，統整各個z值下的Test RMSE並討論。"
   ]
  },
  {
   "cell_type": "code",
   "execution_count": null,
   "metadata": {
    "id": "h8QtfdcvbxBm"
   },
   "outputs": [],
   "source": [
    "def my_model2(hidden_nodes_size, weight_decay, plot_rmse, z):\n",
    "    Net = MyOwnNet1(input_size=90, hidden_nodes_size=hidden_nodes_size, num_of_classes=1).cuda()\n",
    "\n",
    "    SSELoss = nn.MSELoss(reduction='sum')  # L2 loss\n",
    "    L1Loss = nn.L1Loss(reduction = 'sum')  # L1 loss\n",
    "    optimizer = torch.optim.Adam(Net.parameters(), lr=0.001, weight_decay=weight_decay)  # optimizer\n",
    "\n",
    "    epoch_num = 100\n",
    "    min_loss = 500000  # 先隨便設\n",
    "    limit = 5000\n",
    "    train_RMSEs = []\n",
    "    valid_RMSEs = []\n",
    "    count = 0\n",
    "    best_count = 0\n",
    "    done = False\n",
    "    total_training_loss = 0\n",
    "    total_points = 0\n",
    "\n",
    "    '''Training'''\n",
    "    for epoch in range(1, epoch_num+1):\n",
    "        for step, (x_batch, y_batch) in enumerate(train_data):\n",
    "            count += 1\n",
    "            total_points += len(x_batch)\n",
    "\n",
    "            # 定義一個 Variable\n",
    "            x_batch1 = Variable(x_batch).cuda()   \n",
    "            y_batch1 = Variable(y_batch).cuda()   \n",
    "\n",
    "            Net.train()\n",
    "            optimizer.zero_grad()  # 將模型的參數梯度初始化為0\n",
    "\n",
    "            predict = Net(x_batch1)\n",
    "            predict = predict.squeeze(-1)  # 壓縮維度\n",
    "\n",
    "            sse_loss = SSELoss(predict, y_batch1)\n",
    "            L1_loss = L1Loss(predict, y_batch1)\n",
    "            training_loss = z * sse_loss + (1-z) * L1_loss\n",
    "\n",
    "            training_loss.backward()  # 進行Backward Propagation\n",
    "            optimizer.step()  # 針對Backward Propagation所得到的梯度調整參數\n",
    "\n",
    "            total_training_loss += sse_loss\n",
    "\n",
    "            # 模型訓練時每100個Batch計算一次Training and Validation RMSE\n",
    "            if count % 100 == 0:  \n",
    "                train_rmse = math.sqrt(total_training_loss / (total_points))\n",
    "                train_RMSEs.append(train_rmse)\n",
    "\n",
    "                '''Validation'''\n",
    "                Net.eval()  # 不隨機捨棄神經元\n",
    "                total_validation_loss = 0\n",
    "                \n",
    "                for step, (x_batch, y_batch) in enumerate(valid_data):\n",
    "                    x_batch1 = Variable(x_batch).cuda()   \n",
    "                    y_batch1 = Variable(y_batch).cuda()   \n",
    "\n",
    "                    predict = Net(x_batch1)\n",
    "                    predict = predict.squeeze(-1)\n",
    "                    validation_loss = SSELoss(predict, y_batch1)\n",
    "                    total_validation_loss += validation_loss\n",
    "\n",
    "                validation_rmse = math.sqrt(total_validation_loss / (len(X_valid)))\n",
    "                valid_RMSEs.append(validation_rmse)\n",
    "\n",
    "                if validation_rmse < min_loss:\n",
    "                    best_count = count\n",
    "                    min_loss = validation_rmse\n",
    "                    chosen_model = Net\n",
    "\n",
    "            if count > (best_count + limit) and validation_loss > min_loss:  # Early stopping\n",
    "                done = True\n",
    "                break      \n",
    "        if done == True:\n",
    "            break\n",
    "    \n",
    "    # 畫圖\n",
    "    if plot_rmse == True:\n",
    "        list_x = np.linspace(100, int(count - 1), int((count - 1) / 100))\n",
    "        plt.plot(list_x, train_RMSEs, label = 'Training RMSE')\n",
    "        plt.plot(list_x, valid_RMSEs, label = 'Validation RMSE')\n",
    "        plt.legend()\n",
    "        plt.xlabel('Step count')\n",
    "        plt.ylabel('RMSE')\n",
    "\n",
    "    '''列出列出 test rmse'''\n",
    "    chosen_model.eval()\n",
    "    total_testing_loss = 0\n",
    "\n",
    "    for step, (x_batch, y_batch) in enumerate(test_data):\n",
    "        x_batch1 = Variable(x_batch).cuda()\n",
    "        y_batch1 = Variable(y_batch).cuda()     \n",
    "\n",
    "        predict_output = Net(x_batch1)\n",
    "        predict_output = predict_output.squeeze(-1)\n",
    "        testing_loss = SSELoss(predict_output, y_batch1)\n",
    "        total_testing_loss += testing_loss\n",
    "\n",
    "    testing_rmse = math.sqrt(total_testing_loss / (len(X_test)))          \n",
    "    # print('RMSE: ', testing_rmse)\n",
    "\n",
    "    return testing_rmse"
   ]
  },
  {
   "cell_type": "markdown",
   "metadata": {
    "id": "yRgm42rLBqPC"
   },
   "source": [
    "Z = 0.5"
   ]
  },
  {
   "cell_type": "code",
   "execution_count": null,
   "metadata": {
    "colab": {
     "base_uri": "https://localhost:8080/",
     "height": 296
    },
    "id": "ysrgABAVAoWk",
    "outputId": "d8af81f9-c395-47da-ae25-950f68eb6f7e"
   },
   "outputs": [
    {
     "name": "stdout",
     "output_type": "stream",
     "text": [
      "Test RMSE:  8.77036291991787\n"
     ]
    },
    {
     "data": {
      "image/png": "[encoded data removed]",
      "text/plain": [
       "<Figure size 432x288 with 1 Axes>"
      ]
     },
     "metadata": {
      "needs_background": "light"
     },
     "output_type": "display_data"
    }
   ],
   "source": [
    "rmse = my_model2(hidden_nodes_size=90, weight_decay=0, plot_rmse = True, z = 0.5)\n",
    "print('Test RMSE: ', rmse)"
   ]
  },
  {
   "cell_type": "markdown",
   "metadata": {
    "id": "8MY1leQQDSWf"
   },
   "source": [
    "使用z = 0.0, 0.1, 0.9, 1.0訓練模型(不須提供訓練過程的Loss圖形)"
   ]
  },
  {
   "cell_type": "code",
   "execution_count": null,
   "metadata": {
    "colab": {
     "base_uri": "https://localhost:8080/"
    },
    "id": "spox3qm7DkPh",
    "outputId": "e70ff778-5e74-4a4c-ac67-ab1d10eea261"
   },
   "outputs": [
    {
     "name": "stdout",
     "output_type": "stream",
     "text": [
      "Z = 0  |  Test RMSE: 9.01502118658791\n",
      "Z = 0.1  |  Test RMSE: 8.782920597037593\n",
      "Z = 0.5  |  Test RMSE: 8.767869848886429\n",
      "Z = 0.9  |  Test RMSE: 8.784726795166863\n",
      "Z = 1  |  Test RMSE: 8.78914887110339\n"
     ]
    }
   ],
   "source": [
    "z_list = [0, 0.1, 0.5, 0.9, 1]\n",
    "\n",
    "for z in z_list:\n",
    "    rmse = my_model2(hidden_nodes_size=90, weight_decay=0, plot_rmse = False, z=z)\n",
    "    print('Z = ' + str(z) +  '  |  ' + 'Test RMSE: ' + str(rmse))"
   ]
  },
  {
   "cell_type": "markdown",
   "metadata": {
    "id": "V6jhCkE-mn4D"
   },
   "source": [
    "#### 只使用 L1 loss 或只使用 L2 loss 來更新參數並不是最佳選擇；經調整後 (結合兩種 loss)，在 z=0.5 (兩種 loss 各佔一半) 時能得到最小的RMSE"
   ]
  },
  {
   "cell_type": "markdown",
   "metadata": {
    "id": "tFB1DZOUmWUM"
   },
   "source": [
    "#### Q8 L2 + Customerized Loss (15%)\n",
    "考慮另一個比較特別的Loss Function\n",
    "\n",
    "$$\n",
    "qloss(\\mathbf{y}, \\hat{\\mathbf{y}}) = \\sum_{i=1}^n \\{ q (y_i - \\hat{y}_i)_+ + (1 - q) (\\hat{y}_i - y_i)_+ \\},\n",
    "$$\n",
    "其中q為參數且$0<=q<=1$，而$(y_i - \\hat{y}_i)_+$是取正值的意思。也就是說如果$(y_i - \\hat{y}_i) > 0$，則$(y_i - \\hat{y}_i)_+ = y_i - \\hat{y}_i$，否則$(y_i - \\hat{y}_i)_+ = 0$。\n",
    "\n",
    "令模型的Loss為$z \\sum_{i=1}^n (y_i - \\hat{y}_i)^2 + (1 - z) \\sum_{i=1}^n \\{ 0.5 (y_i - \\hat{y}_i)_+ + 0.5 (\\hat{y}_i - y_i)_+ \\} $。請使用Q5中的MLP with Dropout模型(H = 90)，令z = 0。並以Adam訓練模型。畫出Training and Validation RMSE，並報告Test RMSE。注意這裡繪圖時應使用RMSE而不是這個特殊的Loss。\n",
    "\n",
    "另外，使用z = 0.1, 0.5, 0.9, 1.0訓練模型(不須提供訓練過程的Loss圖形)，統整各個z值下的Test RMSE並討論。"
   ]
  },
  {
   "cell_type": "code",
   "execution_count": 28,
   "metadata": {
    "id": "p2qvY7Vxl5nc"
   },
   "outputs": [],
   "source": [
    "def customize_loss(y, yhat):\n",
    "    total = 0\n",
    "    for i in range(len(y)):\n",
    "        if y[i] - yhat[i] > 0:\n",
    "            total += 0.5 * (y[i] - yhat[i])\n",
    "        elif yhat[i] - y[i] > 0:\n",
    "            total += 0.5*(yhat[i] - y[i])\n",
    "\n",
    "    return total"
   ]
  },
  {
   "cell_type": "code",
   "execution_count": 29,
   "metadata": {
    "id": "00rAJ7a1RLk9"
   },
   "outputs": [],
   "source": [
    "def my_model3(hidden_nodes_size, weight_decay, plot_rmse, z):\n",
    "    Net = MyOwnNet1(input_size=90, hidden_nodes_size=hidden_nodes_size, num_of_classes=1).cuda()\n",
    "\n",
    "    SSELoss = nn.MSELoss(reduction='sum')  # L2 loss\n",
    "    optimizer = torch.optim.Adam(Net.parameters(), lr=0.001, weight_decay=weight_decay)  # optimizer\n",
    "\n",
    "    epoch_num = 100\n",
    "    min_loss = 500000  # 先隨便設\n",
    "    limit = 5000\n",
    "    train_RMSEs = []\n",
    "    valid_RMSEs = []\n",
    "    count = 0\n",
    "    best_count = 0\n",
    "    done = False\n",
    "    total_training_loss = 0\n",
    "    total_points = 0\n",
    "\n",
    "    '''Training'''\n",
    "    for epoch in range(1, epoch_num+1):\n",
    "        for step, (x_batch, y_batch) in enumerate(train_data):\n",
    "            count += 1\n",
    "            total_points += len(x_batch)\n",
    "\n",
    "            # 定義一個 Variable\n",
    "            x_batch1 = Variable(x_batch).cuda()   \n",
    "            y_batch1 = Variable(y_batch).cuda()   \n",
    "\n",
    "            Net.train()\n",
    "            optimizer.zero_grad()  # 將模型的參數梯度初始化為0\n",
    "\n",
    "            predict = Net(x_batch1)\n",
    "            predict = predict.squeeze(-1)  # 壓縮維度\n",
    "\n",
    "            customized_loss = customize_loss(y_batch1, predict)\n",
    "            sse_loss = SSELoss(predict, y_batch1)\n",
    "            \n",
    "            training_loss = z * sse_loss + (1-z) * customized_loss\n",
    "\n",
    "            training_loss.backward()  # 進行Backward Propagation\n",
    "            optimizer.step()  # 針對Backward Propagation所得到的梯度調整參數\n",
    "\n",
    "            total_training_loss += sse_loss\n",
    "\n",
    "            # 模型訓練時每100個Batch計算一次Training and Validation RMSE\n",
    "            if count % 100 == 0:  \n",
    "                train_rmse = math.sqrt(total_training_loss / (total_points))\n",
    "                train_RMSEs.append(train_rmse)\n",
    "\n",
    "                '''Validation'''\n",
    "                Net.eval()  # 不隨機捨棄神經元\n",
    "                total_validation_loss = 0\n",
    "                \n",
    "                for step, (x_batch, y_batch) in enumerate(valid_data):\n",
    "                    x_batch1 = Variable(x_batch).cuda()   \n",
    "                    y_batch1 = Variable(y_batch).cuda()   \n",
    "\n",
    "                    predict = Net(x_batch1)\n",
    "                    predict = predict.squeeze(-1)\n",
    "                    validation_loss = SSELoss(predict, y_batch1)\n",
    "                    total_validation_loss += validation_loss\n",
    "\n",
    "                validation_rmse = math.sqrt(total_validation_loss / (len(X_valid)))\n",
    "                valid_RMSEs.append(validation_rmse)\n",
    "\n",
    "                if validation_rmse < min_loss:\n",
    "                    best_count = count\n",
    "                    min_loss = validation_rmse\n",
    "                    chosen_model = Net\n",
    "\n",
    "            if count > (best_count + limit) and validation_loss > min_loss:  # Early stopping\n",
    "                done = True\n",
    "                break      \n",
    "        if done == True:\n",
    "            break\n",
    "    \n",
    "    # 畫圖\n",
    "    if plot_rmse == True:\n",
    "        list_x = np.linspace(100, int(count - 1), int((count - 1) / 100))\n",
    "        plt.plot(list_x, train_RMSEs, label = 'Training RMSE')\n",
    "        plt.plot(list_x, valid_RMSEs, label = 'Validation RMSE')\n",
    "        plt.legend()\n",
    "        plt.xlabel('Step count')\n",
    "        plt.ylabel('RMSE')\n",
    "\n",
    "    '''列出列出 test rmse'''\n",
    "    chosen_model.eval()\n",
    "    total_testing_loss = 0\n",
    "\n",
    "    for step, (x_batch, y_batch) in enumerate(test_data):\n",
    "        x_batch1 = Variable(x_batch).cuda()\n",
    "        y_batch1 = Variable(y_batch).cuda()     \n",
    "\n",
    "        predict_output = Net(x_batch1)\n",
    "        predict_output = predict_output.squeeze(-1)\n",
    "        testing_loss = SSELoss(predict_output, y_batch1)\n",
    "        total_testing_loss += testing_loss\n",
    "\n",
    "    testing_rmse = math.sqrt(total_testing_loss / (len(X_test)))          \n",
    "    # print('RMSE: ', testing_rmse)\n",
    "\n",
    "    return testing_rmse"
   ]
  },
  {
   "cell_type": "code",
   "execution_count": 30,
   "metadata": {
    "colab": {
     "base_uri": "https://localhost:8080/",
     "height": 296
    },
    "id": "FvONUNpycjkz",
    "outputId": "6c58d433-cc7c-4d96-e148-3c39a3fdf1d2"
   },
   "outputs": [
    {
     "name": "stdout",
     "output_type": "stream",
     "text": [
      "Test RMSE:  8.98776515521804\n"
     ]
    },
    {
     "data": {
      "image/png": "[encoded data removed]",
      "text/plain": [
       "<Figure size 432x288 with 1 Axes>"
      ]
     },
     "metadata": {
      "needs_background": "light"
     },
     "output_type": "display_data"
    }
   ],
   "source": [
    "rmse = my_model3(hidden_nodes_size=90, weight_decay=0, plot_rmse = True, z=0)\n",
    "print('Test RMSE: ', rmse)"
   ]
  },
  {
   "cell_type": "code",
   "execution_count": null,
   "metadata": {
    "colab": {
     "base_uri": "https://localhost:8080/"
    },
    "id": "BHhSRwUATfUK",
    "outputId": "353ff9cf-b541-44a1-d517-4c72835de81e"
   },
   "outputs": [
    {
     "name": "stdout",
     "output_type": "stream",
     "text": [
      "Z = 0  |  Test RMSE: 8.981598585952263\n"
     ]
    }
   ],
   "source": [
    "z_list = [0, 0.1, 0.5, 0.9, 1]\n",
    "\n",
    "for z in z_list:\n",
    "    rmse = my_model3(hidden_nodes_size=90, weight_decay=0, plot_rmse = False, z=z)\n",
    "    print('Z = ' + str(z) +  '  |  ' + 'Test RMSE: ' + str(rmse))"
   ]
  }
 ],
 "metadata": {
  "accelerator": "GPU",
  "colab": {
   "collapsed_sections": [],
   "name": "hw4_b06302258",
   "provenance": []
  },
  "kernelspec": {
   "display_name": "Python 3.8.5 ('.venv': venv)",
   "language": "python",
   "name": "python3"
  },
  "language_info": {
   "codemirror_mode": {
    "name": "ipython",
    "version": 3
   },
   "file_extension": ".py",
   "mimetype": "text/x-python",
   "name": "python",
   "nbconvert_exporter": "python",
   "pygments_lexer": "ipython3",
   "version": "3.8.5"
  },
  "vscode": {
   "interpreter": {
    "hash": "c09fbbb56796bc880c6588f78c710ca85a8512793b0b696b680252d78f26f34b"
   }
  }
 },
 "nbformat": 4,
 "nbformat_minor": 1
}
