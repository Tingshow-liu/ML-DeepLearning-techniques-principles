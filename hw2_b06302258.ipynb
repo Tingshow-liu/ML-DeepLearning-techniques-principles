{
 "cells": [
  {
   "cell_type": "markdown",
   "metadata": {},
   "source": [
    "## 第一題 [Data Preprocessing]\n",
    "\n",
    "(10%) 資料前處理是一個重要的工作，本題將利用UCI的\"Adult\" dataset <https://archive.ics.uci.edu/ml/datasets/Adult>來練習資料前處理。我們使用這個資料集的方式是用來建構預測最後一個收入欄位是'>50K'或'<=50K'。這個資料集已經先切好了Training跟Test。我們將會沿用這個切割。\n",
    "\n",
    "資料前處理包含以下工作:\n",
    "* 生成以下numpy變數: x_train(訓練特徵)、y_train(訓練標籤)、x_test(測試特徵)、y_test(測試標籤)。用一個Dictionary組織將這些變數，其中Key為變數名稱，Value為之前生成的變數內容。\n",
    "* 最後一欄為標籤，將'>50K'與'<=50K'轉成1跟0。其他欄位為特徵。\n",
    "* 把所有含有缺值的Rows刪除。\n",
    "* 所有數值欄位標準化(均數為0，變異數為1)。測試資料特徵需用訓練資料的均數與變異數標準化。\n",
    "* 所有類別欄位(如native-country與workclass)都應使用\"1-of-K\"轉換成0與1的欄位。\n",
    "* 我們只考慮在訓練資料中出現超過(含)10次的特徵值。如果一個特徵值出現不到10次，則刪除這個特徵值所對應的1-of-K欄位。\n",
    "* 你可以使用sklearn中的工具函數進行1-of-K encoding與變數標準化。"
   ]
  },
  {
   "cell_type": "code",
   "execution_count": 1,
   "metadata": {},
   "outputs": [],
   "source": [
    "'''讀檔'''\n",
    "import pandas as pd\n",
    "import numpy as np\n",
    "\n",
    "train_data = pd.read_csv('adult.data', header=None, sep=', ', engine='python')\n",
    "test_data = pd.read_csv('adult.test', header=None, sep=', ', engine='python')\n",
    "\n",
    "pd.set_option('display.max_columns', None)\n",
    "\n",
    "train_data.columns = ['age', 'workclass', 'fnlwgt', 'education', 'education-num', 'marital-status', 'occupation', 'relationship', 'race', 'sex', 'capital-gain', 'capital-loss', 'hours-per-week', 'native-country', 'class']\n",
    "test_data.columns = ['age', 'workclass', 'fnlwgt', 'education', 'education-num', 'marital-status', 'occupation', 'relationship', 'race', 'sex', 'capital-gain', 'capital-loss', 'hours-per-week', 'native-country', 'class']\n"
   ]
  },
  {
   "cell_type": "markdown",
   "metadata": {},
   "source": [
    "### 所有類別欄位使用\"1-of-K\"轉換成0與1的欄位"
   ]
  },
  {
   "cell_type": "code",
   "execution_count": 2,
   "metadata": {},
   "outputs": [],
   "source": [
    "from sklearn.preprocessing import OneHotEncoder\n",
    "\n",
    "encode_category = ['workclass', 'education', 'marital-status', 'occupation', 'relationship', 'race', 'sex', 'native-country']\n",
    "\n",
    "for x in encode_category:\n",
    "    encoder = OneHotEncoder(sparse=False)  # 要回傳 array\n",
    "    encoded_train_data = pd.DataFrame(encoder.fit_transform(train_data[[x]]))  # fitting requires a 2D array not 1D array\n",
    "    encoded_train_data.columns = encoder.get_feature_names([x])\n",
    "    train_data.drop([x], axis=1, inplace=True)\n",
    "    train_data = pd.concat([train_data, encoded_train_data], axis=1)\n",
    "# print(train_data)  \n",
    "\n",
    "for x1 in encode_category:\n",
    "    encoder1 = OneHotEncoder(sparse=False)\n",
    "    encoded_test_data = pd.DataFrame(encoder1.fit_transform(test_data[[x1]]))\n",
    "    encoded_test_data.columns = encoder1.get_feature_names([x1])\n",
    "    test_data.drop([x1], axis=1, inplace=True)\n",
    "    test_data = pd.concat([test_data, encoded_test_data], axis=1)\n",
    "# print(test_data)"
   ]
  },
  {
   "cell_type": "markdown",
   "metadata": {},
   "source": [
    "### 最後一欄為標籤，將'>50K'與'<=50K'轉成1跟0。"
   ]
  },
  {
   "cell_type": "code",
   "execution_count": 3,
   "metadata": {},
   "outputs": [],
   "source": [
    "train_data = train_data.replace('>50K', 1)\n",
    "train_data = train_data.replace('<=50K', 0)\n",
    "\n",
    "test_data = test_data.replace('>50K.', 1)\n",
    "test_data = test_data.replace('<=50K.', 0)"
   ]
  },
  {
   "cell_type": "markdown",
   "metadata": {},
   "source": [
    "### 刪除有缺失值的rows"
   ]
  },
  {
   "cell_type": "code",
   "execution_count": 4,
   "metadata": {},
   "outputs": [],
   "source": [
    "# 缺失值為 \"?\" (有缺失值介會是\"?\")\n",
    "train_data = train_data[train_data['workclass_?'] != 1]\n",
    "train_data = train_data[train_data['occupation_?'] != 1]\n",
    "train_data = train_data[train_data['native-country_?'] != 1]\n",
    "\n",
    "test_data = test_data[test_data['workclass_?'] != 1]\n",
    "test_data = test_data[test_data['occupation_?'] != 1]\n",
    "test_data = test_data[test_data['native-country_?'] != 1]\n",
    "\n",
    "train_data.drop(['workclass_?'] ,axis=1, inplace=True)\n",
    "train_data.drop(['occupation_?'] ,axis=1, inplace=True)\n",
    "train_data.drop(['native-country_?'] ,axis=1, inplace=True)\n",
    "\n",
    "test_data.drop(['workclass_?'] ,axis=1, inplace=True)\n",
    "test_data.drop(['occupation_?'] ,axis=1, inplace=True)\n",
    "test_data.drop(['native-country_?'] ,axis=1, inplace=True)"
   ]
  },
  {
   "cell_type": "markdown",
   "metadata": {},
   "source": [
    "### 所有數值欄位標準化(均數為0，變異數為1)。測試資料特徵需用訓練資料的均數與變異數標準化。"
   ]
  },
  {
   "cell_type": "code",
   "execution_count": 5,
   "metadata": {
    "scrolled": true
   },
   "outputs": [],
   "source": [
    "from sklearn.preprocessing import StandardScaler\n",
    "test_data['age'] = (test_data['age'] - np.mean(train_data['age'])) / np.std(train_data['age'])\n",
    "test_data['fnlwgt'] = (test_data['fnlwgt'] - np.mean(train_data['fnlwgt'])) / np.std(train_data['fnlwgt'])\n",
    "test_data['education-num'] = (test_data['education-num'] - np.mean(train_data['education-num'])) / np.std(train_data['education-num'])\n",
    "test_data['capital-gain'] = (test_data['capital-gain'] - np.mean(train_data['capital-gain'])) / np.std(train_data['capital-gain'])\n",
    "test_data['capital-loss'] = (test_data['capital-loss'] - np.mean(train_data['capital-loss'])) / np.std(train_data['capital-loss'])\n",
    "test_data['hours-per-week'] = (test_data['hours-per-week'] - np.mean(train_data['hours-per-week'])) / np.std(train_data['hours-per-week'])\n",
    "\n",
    "train_data['age'] = StandardScaler().fit_transform(train_data[['age']])\n",
    "train_data['capital-loss'] = StandardScaler().fit_transform(train_data[['capital-loss']])\n",
    "train_data['hours-per-week'] = StandardScaler().fit_transform(train_data[['hours-per-week']])\n",
    "train_data['capital-gain'] = StandardScaler().fit_transform(train_data[['capital-gain']])\n",
    "train_data['education-num'] = StandardScaler().fit_transform(train_data[['education-num']])\n",
    "train_data['fnlwgt'] = StandardScaler().fit_transform(train_data[['fnlwgt']])"
   ]
  },
  {
   "cell_type": "markdown",
   "metadata": {},
   "source": [
    "### 我們只考慮在訓練資料中出現超過(含)10次的特徵值。如果一個特徵值出現不到10次，則刪除這個特徵值所對應的1-of-K欄位。 "
   ]
  },
  {
   "cell_type": "code",
   "execution_count": 6,
   "metadata": {},
   "outputs": [],
   "source": [
    "train_data_col = list(train_data.columns)\n",
    "train_data_col.remove('age')\n",
    "train_data_col.remove('fnlwgt')\n",
    "train_data_col.remove('education-num')\n",
    "train_data_col.remove('capital-gain')\n",
    "train_data_col.remove('capital-loss')\n",
    "train_data_col.remove('hours-per-week')\n",
    "\n",
    "test_data_col = list(test_data.columns)\n",
    "test_data_col.remove('age')\n",
    "test_data_col.remove('fnlwgt')\n",
    "test_data_col.remove('education-num')\n",
    "test_data_col.remove('capital-gain')\n",
    "test_data_col.remove('capital-loss')\n",
    "test_data_col.remove('hours-per-week')\n",
    "\n",
    "drop_col = []\n",
    "for col in train_data_col:\n",
    "    if train_data[col].sum() < 10:\n",
    "        train_data.drop([col], axis=1, inplace=True)\n",
    "        drop_col.append(col)\n",
    "\n",
    "for col1 in test_data_col:\n",
    "    if col1 in drop_col:\n",
    "        test_data.drop([col1], axis=1, inplace=True)"
   ]
  },
  {
   "cell_type": "markdown",
   "metadata": {},
   "source": [
    "### 生成y_train和y_test"
   ]
  },
  {
   "cell_type": "code",
   "execution_count": 7,
   "metadata": {},
   "outputs": [],
   "source": [
    "adult50k = {}\n",
    "\n",
    "adult50k['y_train'] = np.array(train_data['class'])\n",
    "adult50k['y_test'] = np.array(test_data['class'])"
   ]
  },
  {
   "cell_type": "code",
   "execution_count": 8,
   "metadata": {},
   "outputs": [],
   "source": [
    "col_order = ['capital-loss', 'hours-per-week', 'capital-gain', 'education-num', 'age', 'fnlwgt', 'relationship_Husband', 'relationship_Not-in-family', 'relationship_Other-relative', 'relationship_Own-child', 'relationship_Unmarried', 'relationship_Wife', 'race_Amer-Indian-Eskimo', 'race_Asian-Pac-Islander', 'race_Black', 'race_Other', 'race_White', 'sex_Female', 'sex_Male', 'occupation_Adm-clerical', 'occupation_Craft-repair', 'occupation_Exec-managerial', 'occupation_Farming-fishing', 'occupation_Handlers-cleaners', 'occupation_Machine-op-inspct', 'occupation_Other-service', 'occupation_Priv-house-serv', 'occupation_Prof-specialty', 'occupation_Protective-serv', 'occupation_Sales', 'occupation_Tech-support', 'occupation_Transport-moving', 'education_10th', 'education_11th', 'education_12th', 'education_1st-4th', 'education_5th-6th', 'education_7th-8th', 'education_9th', 'education_Assoc-acdm', 'education_Assoc-voc', 'education_Bachelors', 'education_Doctorate', 'education_HS-grad', 'education_Masters', 'education_Preschool', 'education_Prof-school', 'education_Some-college', 'native-country_Cambodia', 'native-country_Canada', 'native-country_China', 'native-country_Columbia', 'native-country_Cuba', 'native-country_Dominican-Republic', 'native-country_Ecuador', 'native-country_El-Salvador', 'native-country_England', 'native-country_France', 'native-country_Germany', 'native-country_Greece', 'native-country_Guatemala', 'native-country_Haiti', 'native-country_Honduras', 'native-country_Hong', 'native-country_Hungary', 'native-country_India', 'native-country_Iran', 'native-country_Ireland', 'native-country_Italy', 'native-country_Jamaica', 'native-country_Japan', 'native-country_Laos', 'native-country_Mexico', 'native-country_Nicaragua', 'native-country_Outlying-US(Guam-USVI-etc)', 'native-country_Peru', 'native-country_Philippines', 'native-country_Poland', 'native-country_Portugal', 'native-country_Puerto-Rico', 'native-country_Scotland', 'native-country_South', 'native-country_Taiwan', 'native-country_Thailand', 'native-country_Trinadad&Tobago', 'native-country_United-States', 'native-country_Vietnam', 'native-country_Yugoslavia', 'workclass_Federal-gov', 'workclass_Local-gov', 'workclass_Private', 'workclass_Self-emp-inc', 'workclass_Self-emp-not-inc', 'workclass_State-gov', 'workclass_Without-pay', 'marital-status_Divorced', 'marital-status_Married-AF-spouse', 'marital-status_Married-civ-spouse', 'marital-status_Married-spouse-absent', 'marital-status_Never-married', 'marital-status_Separated', 'marital-status_Widowed', 'class']\n",
    "\n",
    "train_data = train_data[col_order]\n",
    "test_data = test_data[col_order]"
   ]
  },
  {
   "cell_type": "markdown",
   "metadata": {},
   "source": [
    "### 生成x_train和x_test"
   ]
  },
  {
   "cell_type": "code",
   "execution_count": 9,
   "metadata": {},
   "outputs": [],
   "source": [
    "train_data.drop(['class'], axis=1, inplace=True)\n",
    "test_data.drop(['class'], axis=1, inplace=True)\n",
    "adult50k['x_train'] = np.array(train_data)\n",
    "adult50k['x_test'] = np.array(test_data)\n"
   ]
  },
  {
   "cell_type": "markdown",
   "metadata": {},
   "source": [
    "### 生成columnname和num_col"
   ]
  },
  {
   "cell_type": "code",
   "execution_count": 10,
   "metadata": {},
   "outputs": [],
   "source": [
    "adult50k['columnname'] = np.array(train_data.columns)\n",
    "adult50k['num_col']= ['age', 'fnlwgt', 'education-num', 'capital-gain', 'capital-loss', 'hours-per-week']"
   ]
  },
  {
   "cell_type": "markdown",
   "metadata": {},
   "source": [
    "### 前處理完成後，比較你生成的Dictionary與由**adult_m50k.pickle**讀入的資料比較，確定內容相同。\n",
    "\n",
    "讀取**adult_m50k.pickle**的方式如下:"
   ]
  },
  {
   "cell_type": "code",
   "execution_count": 11,
   "metadata": {},
   "outputs": [],
   "source": [
    "import pickle\n",
    "dsfile = 'adult_m50k.pickle'\n",
    "with open(dsfile, 'rb') as fh1:\n",
    "    adult50kp = pickle.load(fh1)"
   ]
  },
  {
   "cell_type": "markdown",
   "metadata": {},
   "source": [
    "為了能方便的比較，你所生成的Dictionary中x_train與x_test的欄位順序應該與adult50kp['columnname']相同。\n",
    "假設你生成的Dictionary叫adult50k，下面的範例程式比較這個變數與由picke檔案讀入的adult50kp中四個主要變數是否相同:"
   ]
  },
  {
   "cell_type": "code",
   "execution_count": 12,
   "metadata": {
    "scrolled": true
   },
   "outputs": [
    {
     "name": "stdout",
     "output_type": "stream",
     "text": [
      "x_train match!\n",
      "x_test match!\n",
      "y_train match!\n",
      "y_test match!\n"
     ]
    }
   ],
   "source": [
    "'''使用 np.isclose 比較四個變數是否相同'''\n",
    "\n",
    "xtrain = np.isclose(adult50kp['x_test'], adult50k['x_test'])\n",
    "xtest = np.isclose(adult50kp['x_train'], adult50k['x_train'])\n",
    "ytrain =  np.isclose(adult50kp['y_train'], adult50k['y_train'])\n",
    "ytest =  np.isclose(adult50kp['y_test'], adult50k['y_test'])\n",
    "\n",
    "if False not in xtrain:\n",
    "    print('x_train match!')\n",
    "if False not in xtest:\n",
    "    print('x_test match!')\n",
    "if False not in ytrain:\n",
    "    print('y_train match!')\n",
    "if False not in ytest:\n",
    "    print('y_test match!')"
   ]
  },
  {
   "cell_type": "markdown",
   "metadata": {},
   "source": [
    "## 第二題 [ROC and AUC]\n",
    "(35%) Receiver operation characteristic (ROC)曲線以及其線下面積 (Area Under Curve; AUC)為衡量分類器預測能力常用的工具。本題將練習繪製ROC以及計算AUC。 在這之前我們必須載入資料，訓練模型，並進行預測:"
   ]
  },
  {
   "cell_type": "code",
   "execution_count": 13,
   "metadata": {},
   "outputs": [
    {
     "name": "stdout",
     "output_type": "stream",
     "text": [
      "Accuracy = 0.848406\n"
     ]
    }
   ],
   "source": [
    "import pickle\n",
    "from sklearn.linear_model import LogisticRegression\n",
    "import numpy as np\n",
    "import matplotlib.pyplot as plt\n",
    "%matplotlib inline\n",
    "\n",
    "# load dataset\n",
    "dsfile = 'adult_m50k.pickle'\n",
    "with open(dsfile, 'rb') as fh1:\n",
    "    adult50kp = pickle.load(fh1)\n",
    "    \n",
    "#train prediction model    \n",
    "c = 0.3\n",
    "lr2 = LogisticRegression(solver = 'lbfgs', C= c, max_iter = 1000)\n",
    "lr2.fit(adult50kp['x_train'], adult50kp['y_train'])\n",
    "#make prediction\n",
    "ypred = lr2.predict(adult50kp['x_test'])\n",
    "ypredprob = lr2.predict_proba(adult50kp['x_test'])\n",
    "#compute accuracy\n",
    "ncorrect = np.sum(adult50kp['y_test'] == ypred)\n",
    "accuracy_sk = ncorrect / adult50kp['y_test'].shape[0]\n",
    "print(\"Accuracy = %f\" % accuracy_sk)   "
   ]
  },
  {
   "cell_type": "code",
   "execution_count": 14,
   "metadata": {},
   "outputs": [],
   "source": [
    "# print(ypredprob)\n",
    "probability = ypredprob[:, 1]\n",
    "\n",
    "x = list(zip(probability, adult50kp['y_test']))\n",
    "TPR = []  # true positive rate\n",
    "FPR = []  # false positive rate\n",
    "threshold = -np.sort(-probability)\n",
    "\n",
    "'''將同一模型每個閾值的(FPR, TPR)座標都畫在ROC空間裡，就能成為特定模型的ROC曲線'''\n",
    "\n",
    "for i in threshold:\n",
    "    tp = 0  # true positive\n",
    "    fp = 0  # false positive\n",
    "    tn = 0  # false negative\n",
    "    fn = 0  # true negative\n",
    "    for j in x:\n",
    "        if j[0] > i:  # 預測為 1 (positive)\n",
    "            if j[1] == 1:\n",
    "                tp += 1\n",
    "            elif j[1] == 0:\n",
    "                fp += 1\n",
    "        else:  # j[0] <i : 預測為 0 (negative)\n",
    "            if j[1] == 1:\n",
    "                fn += 1\n",
    "            elif j[1] == 0:\n",
    "                tn += 1\n",
    "    TPR.append(tp / (tp + fn))\n",
    "    FPR.append(fp / (fp + tn))"
   ]
  },
  {
   "cell_type": "markdown",
   "metadata": {},
   "source": [
    "### 畫出ROC Curve"
   ]
  },
  {
   "cell_type": "code",
   "execution_count": 18,
   "metadata": {},
   "outputs": [
    {
     "data": {
      "text/plain": [
       "<Figure size 432x288 with 0 Axes>"
      ]
     },
     "metadata": {},
     "output_type": "display_data"
    },
    {
     "data": {
      "image/png": "[encoded data removed]",
      "text/plain": [
       "<Figure size 288x288 with 1 Axes>"
      ]
     },
     "metadata": {
      "needs_background": "light"
     },
     "output_type": "display_data"
    }
   ],
   "source": [
    "plt.figure()\n",
    "plt.figure(figsize=(4, 4))\n",
    "plt.plot(FPR, TPR, color='red', lw=2, label='ROC curve (area = %0.2f)' % area)\n",
    "plt.plot([0, 1], [0, 1], color='black', lw=2)\n",
    "plt.xlim([0.0, 1.0])\n",
    "plt.ylim([0.0, 1.0])\n",
    "plt.xlabel('False Positive Rate')\n",
    "plt.ylabel('True Positive Rate')\n",
    "plt.title('ROC curve')\n",
    "plt.legend(loc=\"lower right\")\n",
    "plt.show()"
   ]
  },
  {
   "cell_type": "markdown",
   "metadata": {},
   "source": [
    "### 計算AUC"
   ]
  },
  {
   "cell_type": "code",
   "execution_count": 16,
   "metadata": {},
   "outputs": [
    {
     "name": "stdout",
     "output_type": "stream",
     "text": [
      "0.9034020627140571\n"
     ]
    }
   ],
   "source": [
    "area = 0\n",
    "for i in range(0, len(TPR)-1):\n",
    "    area += (1/2)*(TPR[i] + TPR[i+1])*(FPR[i+1] - FPR[i])\n",
    "\n",
    "print(area)"
   ]
  },
  {
   "cell_type": "markdown",
   "metadata": {},
   "source": [
    "## 第三題 [Logistic Regression with L2 Regularization]\n",
    "\n",
    "* Q3.1 (15%) Derive the gradient and hessian matrix for the new E(w). \n",
    "* Q3.2 (25%) Create your mylogistic_l2 class. Train your model and show the learned $w$ as well as test accuracy for the cases below. If $w$ is too long for you, show selected $w$ for continuous-valued, binary-valued, and the constant term.  \n",
    "    * Case 1: lambda = 1 for all coefficients\n",
    "    * Case 2: lambda = 1 for all but the intercept, no regularization for intercept term.\n",
    "    * Case 3: lambda = 1 for numerical-valued features, lambda = 0.5 for binary-valued features, no regularization for intercept term.\n",
    "* Q3.3 (10%) Further split the training data into subtraining (90%) and tuning (10%) to search for the best hyperparameters. Set the regularization coefficient for the constant term to zero. Allow different regularizations for continuous-valued and binary-valued features. Let $a_1$ and $a_2$ denote the regularization coefficients for continuous-valued and binary-valued features. Search the best $a_1$ and $a_2$ and report the test accuracy using the best hyper-parameters. You should follow the following procedure to search for the best hyperparameters. \n",
    "    1. Choose a set of grids among a reasonable range. For example, 10 grids in [0.01, 100]. \n",
    "    2. Conduct grid search with the constraint that $a_1 = a_2$. Record the best value $a_1^*$ and $a_2^*$.\n",
    "    3. Fix $a_1 = a_1^*$, and search $a_2$ for the best value, call the result the new $a_2^*$. \n",
    "    4. Fix $a_2 = a_2^*$, and search $a_1$ for the best value.\n",
    "    5. Report the selected $a_1$ and $a_2$.\n",
    "    6. Train a model using the selected hyper-parameters, and report the test accuracy. \n",
    "  \n",
    "* Q3.4 (5%) Use sklearn.linear_model.LogisticRegression to train and test the model (including hyperparameter tuning). Compare the estimated parameters and test accuracy with those from your own models. "
   ]
  },
  {
   "cell_type": "markdown",
   "metadata": {},
   "source": [
    "### Q 3.1 Derive the gradient and hessian matrix for the new E(w)\n",
    "\n",
    "$E(w) = - \\sum_{i=1}^n { t_i \\ln y_i  + (1 - t_i) \\ln (1 - y_i)} + \\frac{1}{2} w^T \\Lambda w$ <br><br>\n",
    "Let $\\sigma (x) = \\frac{1}{1 + exp({-x})}$ <br><br>\n",
    "Let $z_1 = t_i \\ln \\sigma (w^T x_i)$ <br><br>\n",
    "Let $z_2 = (1-t_i) \\ln[1 - \\sigma (w^T x_i)]$ <br><br>\n",
    "$\\frac{\\partial z_1}{\\partial w} = \\frac{t_i\\sigma(w^Tx_i)(1-\\sigma(w^Tx_i))x_i}{\\sigma(w^Tx_i)} = t_i (1-\\sigma(w^Tx_i))x_i$ <br><br>\n",
    "$\\frac{\\partial z_2}{\\partial w} = \\frac{(t_i-1)\\sigma(w^Tx_i)(1-\\sigma(w^Tx_i))x_i}{1-\\sigma(w^Tx_i)} = (t_i-1) (\\sigma(w^Tx_i))x_i$ <br><br>\n",
    "$\\frac{\\partial z}{\\partial w} = \\frac{\\partial z_1}{\\partial w} + \\frac{\\partial z_1}{\\partial w} = (t_i - \\sigma(w^Tx_i))x_i$ <br><br>\n",
    "$\\frac{\\partial \\frac{1}{2} w^T \\Lambda w}{\\partial w} = \\frac{1}{2} (\\Lambda + \\Lambda^T) w = \\Lambda w $<br><br>\n",
    "$\\nabla E(w) = \\Lambda w + \\sum_{i=1}^{N}[\\sigma(w^Tx_i)-t_i]x_i = X^T (y-t)+\\Lambda w$ <br><br>\n",
    "$H = \\Lambda  + \\sum_{i=1}^{N} [(w^T x_i)(1-w^T x_i)x_i x_i^T] = X^T R X + \\Lambda $"
   ]
  },
  {
   "cell_type": "markdown",
   "metadata": {},
   "source": [
    "### Q3.2 Create your mylogistic_l2 class. \n",
    "Train your model and show the learned $w$ as well as test accuracy for the cases below. If $w$ is too long for you, show selected $w$ for continuous-valued, binary-valued, and the constant term."
   ]
  },
  {
   "cell_type": "code",
   "execution_count": 19,
   "metadata": {},
   "outputs": [],
   "source": [
    "dsfile = 'adult_m50k.pickle'\n",
    "with open(dsfile, 'rb') as fh1:\n",
    "    adult50kp = pickle.load(fh1)\n",
    "\n",
    "# print(adult50kp.keys())"
   ]
  },
  {
   "cell_type": "code",
   "execution_count": 20,
   "metadata": {},
   "outputs": [],
   "source": [
    "class mylogistic_l2():\n",
    "    def __init__(self, reg_vec, max_iter=100, tol=1e-5, add_intercept=True):\n",
    "        \"\"\"reg_vec: the regularization coefficient vector\n",
    "           max_iter: maximum number of iteration to run for the Newton method\n",
    "           tol: tolerance for the objective function\n",
    "           add_intercept: whether to add intercept (a column of ones) at last column of the feature matrix\"\"\"\n",
    "\n",
    "        self.reg_vec = reg_vec\n",
    "        self.max_iter = max_iter\n",
    "        self.tol = tol\n",
    "        self.add_intercept = add_intercept\n",
    "\n",
    "    def fit(self, x, y, verbal=False):\n",
    "        # Add your code here\n",
    "        if self.add_intercept == True:\n",
    "            x = np.column_stack((x, np.ones(len(x))))\n",
    "        # print(x.shape)  # x: 30162 * 103\n",
    "\n",
    "        w = np.linalg.inv(np.dot(x.T, x) + np.eye(x.shape[1]) * np.mean(self.reg_vec.diagonal())).dot(x.T).dot(y)\n",
    "        # print(w.shape): 1 * 103\n",
    "\n",
    "        errors = []\n",
    "\n",
    "        for i in range(self.max_iter):\n",
    "            sigmoid = 1 / (1 + np.exp(-np.dot(x, w)))  # sigmoid: 1 * 30162\n",
    "            gradient = np.dot((sigmoid - y), x) + np.dot(self.reg_vec, w)\n",
    "            # print(np.diag(sigmoid).shape)  # 30162 * 30162\n",
    "            hessian = x.T.dot(np.diag(sigmoid)).dot(np.diag((1-sigmoid))).dot(x) + self.reg_vec\n",
    "            # print(hessian)\n",
    "            new_w = w - np.dot(np.linalg.inv(hessian), gradient)\n",
    "            # print(new_w)\n",
    "            new_sigmoid = 1 / (1 + np.exp(-np.dot(x, new_w)))\n",
    "            error = (1/2)*(np.dot(np.dot(self.reg_vec, new_w), new_w)) - (np.dot((1-y.T), np.log(1-new_sigmoid))+np.dot(y.T, np.log(new_sigmoid)))\n",
    "\n",
    "            w = new_w\n",
    "            errors.append(error)\n",
    "\n",
    "            if i != 0 and (errors[-2] - error < self.tol):\n",
    "                break\n",
    "        # print(errors)\n",
    "        self.w = w\n",
    "\n",
    "    def predict(self, x):\n",
    "        '''doing prediction'''\n",
    "        x = np.column_stack((x, np.ones(len(x))))\n",
    "        y_predicts = 1 / (1 + np.exp(-np.dot(x, self.w.T)))\n",
    "        classes = []\n",
    "        for i in y_predicts:\n",
    "            if i > 0.5:\n",
    "                classes.append(1)\n",
    "            else:\n",
    "                classes.append(0)\n",
    "\n",
    "        return classes    \n",
    "    \n",
    "    def return_w(self):\n",
    "        print('w: ', self.w)"
   ]
  },
  {
   "cell_type": "markdown",
   "metadata": {},
   "source": [
    "### Case 1: lambda = 1 for all coefficients"
   ]
  },
  {
   "cell_type": "code",
   "execution_count": 21,
   "metadata": {},
   "outputs": [
    {
     "name": "stdout",
     "output_type": "stream",
     "text": [
      "accuracy:  0.847875166002656\n",
      "w:  [ 2.58310749e-01  3.52951378e-01  2.33390152e+00  7.51145211e-01\n",
      "  3.33524430e-01  7.92368680e-02 -2.59305992e-01 -3.31059192e-02\n",
      " -8.02092312e-01 -1.16328375e+00 -1.57480268e-01  1.06974336e+00\n",
      " -6.33846058e-01  1.16732409e-01 -2.31567381e-01 -5.17122207e-01\n",
      " -7.97216465e-02 -1.09949780e+00 -2.46027086e-01  6.19694928e-02\n",
      "  1.26685884e-01  8.62656059e-01 -9.18352843e-01 -6.21226177e-01\n",
      " -2.00740224e-01 -7.51600981e-01 -1.61011588e+00  5.75820911e-01\n",
      "  6.48995283e-01  3.53741434e-01  7.17218474e-01 -2.84494743e-02\n",
      " -9.54820746e-04 -1.96540899e-01 -1.46351640e-01  6.26946275e-01\n",
      "  4.48207080e-01  2.45945819e-02  4.69223657e-02 -4.91067746e-01\n",
      " -2.03035424e-01 -1.63303680e-01 -1.76623501e-02 -1.11328323e-01\n",
      " -9.94618240e-02 -1.17391916e+00  1.80702678e-01 -6.92720004e-02\n",
      "  9.76496905e-01  4.60988601e-01 -4.95440416e-01 -1.27203531e+00\n",
      "  4.86772406e-01 -8.98963733e-01 -6.00542591e-02 -3.50848853e-01\n",
      "  4.32815220e-01  5.94120150e-01  5.82151924e-01 -6.20962283e-01\n",
      " -5.97480378e-02  9.29035250e-02 -1.51892101e-01 -5.38528893e-03\n",
      "  3.41609087e-02 -2.89088236e-01  1.56053911e-01  4.95401243e-01\n",
      "  8.90942264e-01  1.49151436e-01  3.42484779e-01 -3.13312160e-01\n",
      " -3.55939108e-01 -3.62494608e-01 -6.67247475e-01 -4.08831130e-01\n",
      "  4.47489832e-01  1.37768931e-01  1.41351233e-01 -1.16015421e-01\n",
      " -5.61032710e-02 -9.34583042e-01 -2.92596523e-02 -2.99012958e-01\n",
      " -1.50511251e-01  3.52331870e-01 -7.85846536e-01  5.80200207e-01\n",
      "  4.97042311e-01 -1.90320740e-01 -3.47717245e-04  1.74993805e-01\n",
      " -4.88202695e-01 -3.12259616e-01 -1.02643023e+00 -7.22310834e-01\n",
      "  1.44672469e+00  1.15520745e+00 -6.80202902e-01 -1.21195630e+00\n",
      " -7.98338505e-01 -5.34648484e-01 -1.34552489e+00]\n"
     ]
    }
   ],
   "source": [
    "xtrain = adult50kp['x_train']  \n",
    "ytrain = adult50kp['y_train']\n",
    "xtest = adult50kp['x_test']\n",
    "ytest = adult50kp['y_test']\n",
    "\n",
    "lamb = np.eye(xtrain.shape[1] + 1)\n",
    "logistic = mylogistic_l2(reg_vec = lamb, max_iter = 1000, tol = 1e-5, add_intercept = True)\n",
    "logistic.fit(xtrain, ytrain)\n",
    "y_predicts = logistic.predict(xtest)\n",
    "\n",
    "corrects = 0\n",
    "for i in range(len(y_predicts)):\n",
    "    if y_predicts[i] == ytest[i]:\n",
    "            corrects += 1\n",
    "            \n",
    "accuracy = corrects / len(y_predicts)\n",
    "print('accuracy: ', accuracy)\n",
    "logistic.return_w()"
   ]
  },
  {
   "cell_type": "markdown",
   "metadata": {},
   "source": [
    "### Case 2: lambda = 1 for all but the intercept, no regularization for intercept term."
   ]
  },
  {
   "cell_type": "code",
   "execution_count": 22,
   "metadata": {},
   "outputs": [
    {
     "name": "stdout",
     "output_type": "stream",
     "text": [
      "accuracy:  0.8477423638778221\n",
      "w:  [ 0.25833063  0.35307341  2.33348255  0.7378757   0.33385106  0.07926886\n",
      " -0.04219572  0.1998764  -0.58360968 -0.93671312  0.07548468  1.28715744\n",
      " -0.37140327  0.39422898  0.04305748 -0.26147348  0.19559029 -0.42695771\n",
      "  0.42695771  0.16424528  0.22840772  0.96472553 -0.81743779 -0.52074423\n",
      " -0.09910239 -0.64944042 -1.55235098  0.6786798   0.75066429  0.45541098\n",
      "  0.81857112  0.07308911  0.0728464  -0.11752644 -0.06282948  0.67242506\n",
      "  0.5040869   0.08799091  0.11435013 -0.38483984 -0.10196309 -0.05145374\n",
      "  0.10741777 -0.01997934  0.01717544 -1.16567808  0.30082277  0.02715464\n",
      "  1.00831207  0.50210397 -0.45756662 -1.24002555  0.52780939 -0.86832688\n",
      " -0.02771494 -0.31412701  0.47343435  0.62981111  0.62405658 -0.5867506\n",
      " -0.0296708   0.12414401 -0.14376238  0.02434194  0.0621604  -0.24843986\n",
      "  0.19459429  0.52620501  0.93165615  0.18707696  0.37950109 -0.28749402\n",
      " -0.31137357 -0.33290534 -0.65117786 -0.38160106  0.48879121  0.17662205\n",
      "  0.17410342 -0.07343502 -0.0314651  -0.89846776  0.00653561 -0.27232555\n",
      " -0.12442075  0.39697177 -0.75318727  0.61067658  0.70544004  0.01789988\n",
      "  0.2090388   0.382747   -0.2795817  -0.10453082 -0.9310132  -0.52642474\n",
      "  1.61398954  1.36735898 -0.49235221 -1.01493649 -0.60567591 -0.34195917\n",
      " -3.17508577]\n"
     ]
    }
   ],
   "source": [
    "lamb = np.eye(xtrain.shape[1] + 1)\n",
    "lamb[102][102] = 0\n",
    "logistic = mylogistic_l2(reg_vec = lamb, max_iter = 1000, tol = 1e-5, add_intercept = True)\n",
    "logistic.fit(xtrain, ytrain)\n",
    "y_predicts = logistic.predict(xtest)\n",
    "\n",
    "corrects = 0\n",
    "for i in range(len(y_predicts)):\n",
    "    if y_predicts[i] == ytest[i]:\n",
    "            corrects += 1\n",
    "            \n",
    "accuracy = corrects / len(y_predicts)\n",
    "print('accuracy: ', accuracy)\n",
    "logistic.return_w()"
   ]
  },
  {
   "cell_type": "markdown",
   "metadata": {},
   "source": [
    "### Case 3: lambda = 1 for numerical-valued features, lambda = 0.5 for binary-valued features, no regularization for intercept term."
   ]
  },
  {
   "cell_type": "code",
   "execution_count": 23,
   "metadata": {},
   "outputs": [
    {
     "name": "stdout",
     "output_type": "stream",
     "text": [
      "accuracy:  0.847675962815405\n",
      "w:  [ 0.25851661  0.3533387   2.33562764  0.7825921   0.33439916  0.07940036\n",
      " -0.08347988  0.23309134 -0.59278098 -0.9224849   0.11139573  1.25425869\n",
      " -0.38299462  0.41291781  0.04136013 -0.26411462  0.19283128 -0.42890321\n",
      "  0.42890321  0.23635122  0.30021361  1.03810521 -0.75216086 -0.4534137\n",
      " -0.02691157 -0.5825269  -2.00075382  0.75127891  0.82696617  0.52830705\n",
      "  0.89488994  0.14510375  0.18253094 -0.02583999  0.00991404  0.89862004\n",
      "  0.68517002  0.23294385  0.24519931 -0.38363083 -0.08029608 -0.06493444\n",
      "  0.0453608   0.03743376 -0.01295908 -2.09374319  0.25763304  0.06659781\n",
      "  1.18748312  0.55059265 -0.47576613 -1.45842154  0.5822242  -1.0627833\n",
      " -0.00957211 -0.31704572  0.52485137  0.73044517  0.67457228 -0.63624179\n",
      " -0.00967268  0.17339113 -0.2364757   0.0375474   0.10120874 -0.24679341\n",
      "  0.23800627  0.64228457  1.00567032  0.23258941  0.42267607 -0.35336167\n",
      " -0.29178766 -0.38125401 -0.96291964 -0.45007954  0.512985    0.22019382\n",
      "  0.22640627 -0.04989103 -0.01836864 -0.95953334  0.01656804 -0.32741555\n",
      " -0.14011404  0.42856024 -0.84476926  0.75121645  0.76670733  0.07638783\n",
      "  0.26824615  0.44314098 -0.2205815  -0.04631789 -1.28758289 -0.57187068\n",
      "  1.82502287  1.39622511 -0.54691696 -1.05894077 -0.65551468 -0.38800489\n",
      " -3.36269033]\n"
     ]
    }
   ],
   "source": [
    "lamb = np.eye(xtrain.shape[1] + 1)\n",
    "lamb = 0.5 * lamb\n",
    "for i in range(6):\n",
    "    lamb[i][i] = 1\n",
    "lamb[102][102] = 0\n",
    "logistic = mylogistic_l2(reg_vec = lamb, max_iter = 1000, tol = 1e-5, add_intercept = True)\n",
    "logistic.fit(xtrain, ytrain)\n",
    "y_predicts = logistic.predict(xtest)\n",
    "\n",
    "corrects = 0\n",
    "for i in range(len(y_predicts)):\n",
    "    if y_predicts[i] == ytest[i]:\n",
    "            corrects += 1\n",
    "            \n",
    "accuracy = corrects / len(y_predicts)\n",
    "print('accuracy: ', accuracy)\n",
    "logistic.return_w()"
   ]
  },
  {
   "cell_type": "markdown",
   "metadata": {},
   "source": [
    "### Q3.3 Further split the training data into subtraining (90%) and tuning (10%) to search for the best hyperparameters.\n",
    "\n",
    "### 1. Choose a set of grids among a reasonable range. "
   ]
  },
  {
   "cell_type": "code",
   "execution_count": 24,
   "metadata": {
    "scrolled": false
   },
   "outputs": [
    {
     "name": "stdout",
     "output_type": "stream",
     "text": [
      "coefficient: 0.01 ; accuracy:  0.843221743453762\n",
      "coefficient: 0.05 ; accuracy:  0.843221743453762\n",
      "coefficient: 0.1 ; accuracy:  0.843221743453762\n",
      "coefficient: 0.5 ; accuracy:  0.8428902883659264\n",
      "coefficient: 1 ; accuracy:  0.8428902883659264\n",
      "coefficient: 2 ; accuracy:  0.8438846536294332\n",
      "coefficient: 5 ; accuracy:  0.8435531985415976\n",
      "coefficient: 8 ; accuracy:  0.8428902883659264\n",
      "coefficient: 10 ; accuracy:  0.8415644680145841\n",
      "coefficient: 50 ; accuracy:  0.8418959231024197\n",
      "coefficient: 100 ; accuracy:  0.8405701027510772\n"
     ]
    }
   ],
   "source": [
    "alist = [0.01, 0.05, 0.1, 0.5, 1, 2, 5, 8, 10, 50, 100]\n",
    "\n",
    "xsubtrain, xtune = np.split(xtrain, [int(0.9 * xtrain.shape[0])])\n",
    "ysubtrain, ytune = np.split(ytrain, [int(0.9 * xtrain.shape[0])])\n",
    "\n",
    "for a in alist:\n",
    "    lamb = np.eye(xsubtrain.shape[1] + 1)\n",
    "    lamb = a * lamb\n",
    "    lamb[102][102] = 0\n",
    "    logistic = mylogistic_l2(reg_vec = lamb, max_iter = 1000, tol = 1e-5, add_intercept = True)\n",
    "    logistic.fit(xsubtrain, ysubtrain)\n",
    "    y_predicts = logistic.predict(xtune)\n",
    "\n",
    "    corrects = 0\n",
    "    for i in range(len(y_predicts)):\n",
    "        if y_predicts[i] == ytune[i]:\n",
    "                corrects += 1\n",
    "            \n",
    "    accuracy = corrects / len(y_predicts)\n",
    "    print('coefficient:', a, '; accuracy: ', accuracy)"
   ]
  },
  {
   "cell_type": "markdown",
   "metadata": {},
   "source": [
    "### 2. Choose best values a1* = a2* = 2 and report the test accuracy"
   ]
  },
  {
   "cell_type": "code",
   "execution_count": 25,
   "metadata": {},
   "outputs": [
    {
     "name": "stdout",
     "output_type": "stream",
     "text": [
      "test accuracy:  0.8482735723771581\n"
     ]
    }
   ],
   "source": [
    "lamb = np.eye(xtrain.shape[1] + 1)\n",
    "lamb = 2 * lamb\n",
    "lamb[102][102] = 0\n",
    "logistic = mylogistic_l2(reg_vec = lamb, max_iter = 1000, tol = 1e-5, add_intercept = True)\n",
    "logistic.fit(xtrain, ytrain)\n",
    "y_predicts = logistic.predict(xtest)\n",
    "\n",
    "corrects = 0\n",
    "for i in range(len(y_predicts)):\n",
    "    if y_predicts[i] == ytest[i]:\n",
    "            corrects += 1\n",
    "            \n",
    "accuracy = corrects / len(y_predicts)\n",
    "print('test accuracy: ', accuracy)"
   ]
  },
  {
   "cell_type": "markdown",
   "metadata": {},
   "source": [
    "### 3. Fix $a_1 = a_1^* = 2$ and search $a_2$ for the best value. "
   ]
  },
  {
   "cell_type": "code",
   "execution_count": 26,
   "metadata": {},
   "outputs": [
    {
     "name": "stdout",
     "output_type": "stream",
     "text": [
      "coefficient: 0.01 ; accuracy:  0.843221743453762\n",
      "coefficient: 0.05 ; accuracy:  0.843221743453762\n",
      "coefficient: 0.1 ; accuracy:  0.843221743453762\n",
      "coefficient: 0.5 ; accuracy:  0.8428902883659264\n",
      "coefficient: 1 ; accuracy:  0.8428902883659264\n",
      "coefficient: 2 ; accuracy:  0.8438846536294332\n",
      "coefficient: 5 ; accuracy:  0.8435531985415976\n",
      "coefficient: 8 ; accuracy:  0.8435531985415976\n",
      "coefficient: 10 ; accuracy:  0.8422273781902552\n",
      "coefficient: 50 ; accuracy:  0.8402386476632416\n",
      "coefficient: 100 ; accuracy:  0.8402386476632416\n"
     ]
    }
   ],
   "source": [
    "a2 = [0.01, 0.05, 0.1, 0.5, 1, 2, 5, 8, 10, 50, 100]\n",
    "\n",
    "for a in a2:\n",
    "    lamb = np.eye(xsubtrain.shape[1] + 1)\n",
    "    lamb = a * lamb\n",
    "    for i in range(6):\n",
    "        lamb[i][i] = 2\n",
    "    lamb[102][102] = 0\n",
    "    \n",
    "    logistic = mylogistic_l2(reg_vec = lamb, max_iter = 1000, tol = 1e-5, add_intercept = True)\n",
    "    logistic.fit(xsubtrain, ysubtrain)\n",
    "    y_predicts = logistic.predict(xtune)\n",
    "\n",
    "    corrects = 0\n",
    "    for i in range(len(y_predicts)):\n",
    "        if y_predicts[i] == ytune[i]:\n",
    "                corrects += 1\n",
    "            \n",
    "    accuracy = corrects / len(y_predicts)\n",
    "    print('coefficient:', a, '; accuracy: ', accuracy)"
   ]
  },
  {
   "cell_type": "markdown",
   "metadata": {},
   "source": [
    "### 4. Fix $a_2 = a_2^* = 2$ and search $a_1$ for the best value. "
   ]
  },
  {
   "cell_type": "code",
   "execution_count": 27,
   "metadata": {},
   "outputs": [
    {
     "name": "stdout",
     "output_type": "stream",
     "text": [
      "coefficient: 0.01 ; accuracy:  0.8438846536294332\n",
      "coefficient: 0.05 ; accuracy:  0.8438846536294332\n",
      "coefficient: 0.1 ; accuracy:  0.8438846536294332\n",
      "coefficient: 0.5 ; accuracy:  0.8438846536294332\n",
      "coefficient: 1 ; accuracy:  0.8438846536294332\n",
      "coefficient: 2 ; accuracy:  0.8438846536294332\n",
      "coefficient: 5 ; accuracy:  0.8435531985415976\n",
      "coefficient: 8 ; accuracy:  0.8438846536294332\n",
      "coefficient: 10 ; accuracy:  0.8435531985415976\n",
      "coefficient: 50 ; accuracy:  0.8428902883659264\n",
      "coefficient: 100 ; accuracy:  0.8428902883659264\n"
     ]
    }
   ],
   "source": [
    "a1 = [0.01, 0.05, 0.1, 0.5, 1, 2, 5, 8, 10, 50, 100]\n",
    "\n",
    "for a in a1:\n",
    "    lamb = np.eye(xsubtrain.shape[1] + 1)\n",
    "    lamb = 2 * lamb\n",
    "    for i in range(6):\n",
    "        lamb[i][i] = a\n",
    "    lamb[102][102] = 0\n",
    "    \n",
    "    logistic = mylogistic_l2(reg_vec = lamb, max_iter = 1000, tol = 1e-5, add_intercept = True)\n",
    "    logistic.fit(xsubtrain, ysubtrain)\n",
    "    y_predicts = logistic.predict(xtune)\n",
    "\n",
    "    corrects = 0\n",
    "    for i in range(len(y_predicts)):\n",
    "        if y_predicts[i] == ytune[i]:\n",
    "                corrects += 1\n",
    "            \n",
    "    accuracy = corrects / len(y_predicts)\n",
    "    print('coefficient:', a, '; accuracy: ', accuracy)"
   ]
  },
  {
   "cell_type": "markdown",
   "metadata": {},
   "source": [
    "### 5. Choose: a1* = 0.05 (從多個相同者中隨機選一個) & a2* = 2\n",
    "### 6. Train a model using the selected hyper-parameters, and report the test accuracy. "
   ]
  },
  {
   "cell_type": "code",
   "execution_count": 28,
   "metadata": {},
   "outputs": [
    {
     "name": "stdout",
     "output_type": "stream",
     "text": [
      "test accuracy:  0.8482735723771581\n"
     ]
    }
   ],
   "source": [
    "lamb = np.eye(xtrain.shape[1] + 1)\n",
    "lamb = 2 * lamb\n",
    "for i in range(6):\n",
    "    lamb[i][i] = 0.05\n",
    "lamb[102][102] = 0\n",
    "\n",
    "logistic = mylogistic_l2(reg_vec = lamb, max_iter = 1000, tol = 1e-5, add_intercept = True)\n",
    "logistic.fit(xtrain, ytrain)\n",
    "y_predicts = logistic.predict(xtest)\n",
    "\n",
    "corrects = 0\n",
    "for i in range(len(y_predicts)):\n",
    "    if y_predicts[i] == ytest[i]:\n",
    "            corrects += 1\n",
    "            \n",
    "accuracy = corrects / len(y_predicts)\n",
    "print('test accuracy: ', accuracy)"
   ]
  },
  {
   "cell_type": "markdown",
   "metadata": {},
   "source": [
    "### 3.4 Use sklearn.linear_model.LogisticRegression to train and test the model (including hyperparameter tuning). Compare the estimated parameters and test accuracy with those from your own models. "
   ]
  },
  {
   "cell_type": "code",
   "execution_count": 29,
   "metadata": {},
   "outputs": [
    {
     "name": "stdout",
     "output_type": "stream",
     "text": [
      "coefficient: 0.01 ; accuracy:  0.8405701027510772\n",
      "coefficient: 0.05 ; accuracy:  0.8409015578389128\n",
      "coefficient: 0.1 ; accuracy:  0.8415644680145841\n",
      "coefficient: 0.5 ; accuracy:  0.8438846536294332\n",
      "coefficient: 1 ; accuracy:  0.8428902883659264\n",
      "coefficient: 2 ; accuracy:  0.8428902883659264\n",
      "coefficient: 5 ; accuracy:  0.843221743453762\n",
      "coefficient: 8 ; accuracy:  0.843221743453762\n",
      "coefficient: 10 ; accuracy:  0.843221743453762\n",
      "coefficient: 50 ; accuracy:  0.843221743453762\n",
      "coefficient: 100 ; accuracy:  0.843221743453762\n"
     ]
    }
   ],
   "source": [
    "from sklearn.linear_model import LogisticRegression\n",
    "\n",
    "alist = [0.01, 0.05, 0.1, 0.5, 1, 2, 5, 8, 10, 50, 100]\n",
    "for a in alist:\n",
    "    x = LogisticRegression(C=a, max_iter=1000)\n",
    "    logistic = x.fit(xsubtrain, ysubtrain)\n",
    "    sk_ypredicts = logistic.predict(xtune)\n",
    "\n",
    "    corrects = 0\n",
    "    for i in range(len(sk_ypredicts)):\n",
    "        if sk_ypredicts[i] == ytune[i]:\n",
    "            corrects += 1\n",
    "            \n",
    "    accuracy = corrects / len(sk_ypredicts)\n",
    "    print('coefficient:', a, '; accuracy: ', accuracy)"
   ]
  },
  {
   "cell_type": "markdown",
   "metadata": {},
   "source": [
    "### Choose regularization coefficient = 0.5"
   ]
  },
  {
   "cell_type": "code",
   "execution_count": 30,
   "metadata": {},
   "outputs": [
    {
     "name": "stdout",
     "output_type": "stream",
     "text": [
      "test accuracy:  0.848207171314741\n"
     ]
    }
   ],
   "source": [
    "x = LogisticRegression(C=0.5, max_iter=1000)\n",
    "logistic = x.fit(xtrain, ytrain)\n",
    "sk_ypredicts = logistic.predict(xtest)\n",
    "\n",
    "corrects = 0\n",
    "for i in range(len(sk_ypredicts)):\n",
    "    if sk_ypredicts[i] == ytest[i]:\n",
    "        corrects += 1\n",
    "            \n",
    "accuracy = corrects / len(sk_ypredicts)\n",
    "print('test accuracy: ', accuracy)"
   ]
  },
  {
   "cell_type": "markdown",
   "metadata": {},
   "source": [
    "### Conclusion: After doing hyperparameter tuning, the test accuracy of sklearn logistic regression model is much the same to my model."
   ]
  }
 ],
 "metadata": {
  "kernelspec": {
   "display_name": "Python 3",
   "language": "python",
   "name": "python3"
  },
  "language_info": {
   "codemirror_mode": {
    "name": "ipython",
    "version": 3
   },
   "file_extension": ".py",
   "mimetype": "text/x-python",
   "name": "python",
   "nbconvert_exporter": "python",
   "pygments_lexer": "ipython3",
   "version": "3.8.3"
  }
 },
 "nbformat": 4,
 "nbformat_minor": 4
}
